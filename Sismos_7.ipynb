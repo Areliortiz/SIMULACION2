{
  "nbformat": 4,
  "nbformat_minor": 0,
  "metadata": {
    "colab": {
      "provenance": [],
      "include_colab_link": true
    },
    "kernelspec": {
      "name": "python3",
      "display_name": "Python 3"
    },
    "language_info": {
      "name": "python"
    }
  },
  "cells": [
    {
      "cell_type": "markdown",
      "metadata": {
        "id": "view-in-github",
        "colab_type": "text"
      },
      "source": [
        "<a href=\"https://colab.research.google.com/github/Areliortiz/SIMULACION2/blob/main/Sismos_7.ipynb\" target=\"_parent\"><img src=\"https://colab.research.google.com/assets/colab-badge.svg\" alt=\"Open In Colab\"/></a>"
      ]
    },
    {
      "cell_type": "code",
      "execution_count": 57,
      "metadata": {
        "id": "VxNJdjgeo-mI"
      },
      "outputs": [],
      "source": [
        "import pandas as pd\n",
        "import numpy as np\n",
        "import matplotlib.pyplot as plt\n",
        "import seaborn as sns"
      ]
    },
    {
      "cell_type": "code",
      "source": [
        "sismos7 = pd.read_csv('https://docs.google.com/spreadsheets/d/e/2PACX-1vQwIELBKwwZD91Ib1_96POm_i8kG9uJhpEoXAfHzZWy4PifaD_0nJv4tMxcARMSqA/pub?output=csv')"
      ],
      "metadata": {
        "id": "scxs_XJNpA0y"
      },
      "execution_count": 58,
      "outputs": []
    },
    {
      "cell_type": "code",
      "source": [
        "sismos7"
      ],
      "metadata": {
        "colab": {
          "base_uri": "https://localhost:8080/",
          "height": 424
        },
        "id": "L59xq7jupFdI",
        "outputId": "22139ba2-7eda-4314-b48d-569ad3e85032"
      },
      "execution_count": 59,
      "outputs": [
        {
          "output_type": "execute_result",
          "data": {
            "text/plain": [
              "    Magnitud   Fecha UTC  Hora UTC\n",
              "0        7.4   1/19/1900   6:33:30\n",
              "1        7.5   4/19/1902   2:23:00\n",
              "2        7.7   9/23/1902  20:18:00\n",
              "3        7.1  12/12/1902  23:10:00\n",
              "4        7.6   1/14/1903   1:47:36\n",
              "..       ...         ...       ...\n",
              "63       7.1   9/19/2017  18:14:39\n",
              "64       7.2   2/16/2018  23:39:39\n",
              "65       7.4   6/23/2020  15:29:03\n",
              "66       7.1    9/8/2021   1:47:46\n",
              "67       7.7   9/19/2022  18:05:09\n",
              "\n",
              "[68 rows x 3 columns]"
            ],
            "text/html": [
              "\n",
              "  <div id=\"df-80fd1572-dcac-42f2-bb37-9b96f278b3cd\" class=\"colab-df-container\">\n",
              "    <div>\n",
              "<style scoped>\n",
              "    .dataframe tbody tr th:only-of-type {\n",
              "        vertical-align: middle;\n",
              "    }\n",
              "\n",
              "    .dataframe tbody tr th {\n",
              "        vertical-align: top;\n",
              "    }\n",
              "\n",
              "    .dataframe thead th {\n",
              "        text-align: right;\n",
              "    }\n",
              "</style>\n",
              "<table border=\"1\" class=\"dataframe\">\n",
              "  <thead>\n",
              "    <tr style=\"text-align: right;\">\n",
              "      <th></th>\n",
              "      <th>Magnitud</th>\n",
              "      <th>Fecha UTC</th>\n",
              "      <th>Hora UTC</th>\n",
              "    </tr>\n",
              "  </thead>\n",
              "  <tbody>\n",
              "    <tr>\n",
              "      <th>0</th>\n",
              "      <td>7.4</td>\n",
              "      <td>1/19/1900</td>\n",
              "      <td>6:33:30</td>\n",
              "    </tr>\n",
              "    <tr>\n",
              "      <th>1</th>\n",
              "      <td>7.5</td>\n",
              "      <td>4/19/1902</td>\n",
              "      <td>2:23:00</td>\n",
              "    </tr>\n",
              "    <tr>\n",
              "      <th>2</th>\n",
              "      <td>7.7</td>\n",
              "      <td>9/23/1902</td>\n",
              "      <td>20:18:00</td>\n",
              "    </tr>\n",
              "    <tr>\n",
              "      <th>3</th>\n",
              "      <td>7.1</td>\n",
              "      <td>12/12/1902</td>\n",
              "      <td>23:10:00</td>\n",
              "    </tr>\n",
              "    <tr>\n",
              "      <th>4</th>\n",
              "      <td>7.6</td>\n",
              "      <td>1/14/1903</td>\n",
              "      <td>1:47:36</td>\n",
              "    </tr>\n",
              "    <tr>\n",
              "      <th>...</th>\n",
              "      <td>...</td>\n",
              "      <td>...</td>\n",
              "      <td>...</td>\n",
              "    </tr>\n",
              "    <tr>\n",
              "      <th>63</th>\n",
              "      <td>7.1</td>\n",
              "      <td>9/19/2017</td>\n",
              "      <td>18:14:39</td>\n",
              "    </tr>\n",
              "    <tr>\n",
              "      <th>64</th>\n",
              "      <td>7.2</td>\n",
              "      <td>2/16/2018</td>\n",
              "      <td>23:39:39</td>\n",
              "    </tr>\n",
              "    <tr>\n",
              "      <th>65</th>\n",
              "      <td>7.4</td>\n",
              "      <td>6/23/2020</td>\n",
              "      <td>15:29:03</td>\n",
              "    </tr>\n",
              "    <tr>\n",
              "      <th>66</th>\n",
              "      <td>7.1</td>\n",
              "      <td>9/8/2021</td>\n",
              "      <td>1:47:46</td>\n",
              "    </tr>\n",
              "    <tr>\n",
              "      <th>67</th>\n",
              "      <td>7.7</td>\n",
              "      <td>9/19/2022</td>\n",
              "      <td>18:05:09</td>\n",
              "    </tr>\n",
              "  </tbody>\n",
              "</table>\n",
              "<p>68 rows × 3 columns</p>\n",
              "</div>\n",
              "    <div class=\"colab-df-buttons\">\n",
              "\n",
              "  <div class=\"colab-df-container\">\n",
              "    <button class=\"colab-df-convert\" onclick=\"convertToInteractive('df-80fd1572-dcac-42f2-bb37-9b96f278b3cd')\"\n",
              "            title=\"Convert this dataframe to an interactive table.\"\n",
              "            style=\"display:none;\">\n",
              "\n",
              "  <svg xmlns=\"http://www.w3.org/2000/svg\" height=\"24px\" viewBox=\"0 -960 960 960\">\n",
              "    <path d=\"M120-120v-720h720v720H120Zm60-500h600v-160H180v160Zm220 220h160v-160H400v160Zm0 220h160v-160H400v160ZM180-400h160v-160H180v160Zm440 0h160v-160H620v160ZM180-180h160v-160H180v160Zm440 0h160v-160H620v160Z\"/>\n",
              "  </svg>\n",
              "    </button>\n",
              "\n",
              "  <style>\n",
              "    .colab-df-container {\n",
              "      display:flex;\n",
              "      gap: 12px;\n",
              "    }\n",
              "\n",
              "    .colab-df-convert {\n",
              "      background-color: #E8F0FE;\n",
              "      border: none;\n",
              "      border-radius: 50%;\n",
              "      cursor: pointer;\n",
              "      display: none;\n",
              "      fill: #1967D2;\n",
              "      height: 32px;\n",
              "      padding: 0 0 0 0;\n",
              "      width: 32px;\n",
              "    }\n",
              "\n",
              "    .colab-df-convert:hover {\n",
              "      background-color: #E2EBFA;\n",
              "      box-shadow: 0px 1px 2px rgba(60, 64, 67, 0.3), 0px 1px 3px 1px rgba(60, 64, 67, 0.15);\n",
              "      fill: #174EA6;\n",
              "    }\n",
              "\n",
              "    .colab-df-buttons div {\n",
              "      margin-bottom: 4px;\n",
              "    }\n",
              "\n",
              "    [theme=dark] .colab-df-convert {\n",
              "      background-color: #3B4455;\n",
              "      fill: #D2E3FC;\n",
              "    }\n",
              "\n",
              "    [theme=dark] .colab-df-convert:hover {\n",
              "      background-color: #434B5C;\n",
              "      box-shadow: 0px 1px 3px 1px rgba(0, 0, 0, 0.15);\n",
              "      filter: drop-shadow(0px 1px 2px rgba(0, 0, 0, 0.3));\n",
              "      fill: #FFFFFF;\n",
              "    }\n",
              "  </style>\n",
              "\n",
              "    <script>\n",
              "      const buttonEl =\n",
              "        document.querySelector('#df-80fd1572-dcac-42f2-bb37-9b96f278b3cd button.colab-df-convert');\n",
              "      buttonEl.style.display =\n",
              "        google.colab.kernel.accessAllowed ? 'block' : 'none';\n",
              "\n",
              "      async function convertToInteractive(key) {\n",
              "        const element = document.querySelector('#df-80fd1572-dcac-42f2-bb37-9b96f278b3cd');\n",
              "        const dataTable =\n",
              "          await google.colab.kernel.invokeFunction('convertToInteractive',\n",
              "                                                    [key], {});\n",
              "        if (!dataTable) return;\n",
              "\n",
              "        const docLinkHtml = 'Like what you see? Visit the ' +\n",
              "          '<a target=\"_blank\" href=https://colab.research.google.com/notebooks/data_table.ipynb>data table notebook</a>'\n",
              "          + ' to learn more about interactive tables.';\n",
              "        element.innerHTML = '';\n",
              "        dataTable['output_type'] = 'display_data';\n",
              "        await google.colab.output.renderOutput(dataTable, element);\n",
              "        const docLink = document.createElement('div');\n",
              "        docLink.innerHTML = docLinkHtml;\n",
              "        element.appendChild(docLink);\n",
              "      }\n",
              "    </script>\n",
              "  </div>\n",
              "\n",
              "\n",
              "<div id=\"df-359bb095-7f47-4150-98c7-50a62cc77740\">\n",
              "  <button class=\"colab-df-quickchart\" onclick=\"quickchart('df-359bb095-7f47-4150-98c7-50a62cc77740')\"\n",
              "            title=\"Suggest charts\"\n",
              "            style=\"display:none;\">\n",
              "\n",
              "<svg xmlns=\"http://www.w3.org/2000/svg\" height=\"24px\"viewBox=\"0 0 24 24\"\n",
              "     width=\"24px\">\n",
              "    <g>\n",
              "        <path d=\"M19 3H5c-1.1 0-2 .9-2 2v14c0 1.1.9 2 2 2h14c1.1 0 2-.9 2-2V5c0-1.1-.9-2-2-2zM9 17H7v-7h2v7zm4 0h-2V7h2v10zm4 0h-2v-4h2v4z\"/>\n",
              "    </g>\n",
              "</svg>\n",
              "  </button>\n",
              "\n",
              "<style>\n",
              "  .colab-df-quickchart {\n",
              "      --bg-color: #E8F0FE;\n",
              "      --fill-color: #1967D2;\n",
              "      --hover-bg-color: #E2EBFA;\n",
              "      --hover-fill-color: #174EA6;\n",
              "      --disabled-fill-color: #AAA;\n",
              "      --disabled-bg-color: #DDD;\n",
              "  }\n",
              "\n",
              "  [theme=dark] .colab-df-quickchart {\n",
              "      --bg-color: #3B4455;\n",
              "      --fill-color: #D2E3FC;\n",
              "      --hover-bg-color: #434B5C;\n",
              "      --hover-fill-color: #FFFFFF;\n",
              "      --disabled-bg-color: #3B4455;\n",
              "      --disabled-fill-color: #666;\n",
              "  }\n",
              "\n",
              "  .colab-df-quickchart {\n",
              "    background-color: var(--bg-color);\n",
              "    border: none;\n",
              "    border-radius: 50%;\n",
              "    cursor: pointer;\n",
              "    display: none;\n",
              "    fill: var(--fill-color);\n",
              "    height: 32px;\n",
              "    padding: 0;\n",
              "    width: 32px;\n",
              "  }\n",
              "\n",
              "  .colab-df-quickchart:hover {\n",
              "    background-color: var(--hover-bg-color);\n",
              "    box-shadow: 0 1px 2px rgba(60, 64, 67, 0.3), 0 1px 3px 1px rgba(60, 64, 67, 0.15);\n",
              "    fill: var(--button-hover-fill-color);\n",
              "  }\n",
              "\n",
              "  .colab-df-quickchart-complete:disabled,\n",
              "  .colab-df-quickchart-complete:disabled:hover {\n",
              "    background-color: var(--disabled-bg-color);\n",
              "    fill: var(--disabled-fill-color);\n",
              "    box-shadow: none;\n",
              "  }\n",
              "\n",
              "  .colab-df-spinner {\n",
              "    border: 2px solid var(--fill-color);\n",
              "    border-color: transparent;\n",
              "    border-bottom-color: var(--fill-color);\n",
              "    animation:\n",
              "      spin 1s steps(1) infinite;\n",
              "  }\n",
              "\n",
              "  @keyframes spin {\n",
              "    0% {\n",
              "      border-color: transparent;\n",
              "      border-bottom-color: var(--fill-color);\n",
              "      border-left-color: var(--fill-color);\n",
              "    }\n",
              "    20% {\n",
              "      border-color: transparent;\n",
              "      border-left-color: var(--fill-color);\n",
              "      border-top-color: var(--fill-color);\n",
              "    }\n",
              "    30% {\n",
              "      border-color: transparent;\n",
              "      border-left-color: var(--fill-color);\n",
              "      border-top-color: var(--fill-color);\n",
              "      border-right-color: var(--fill-color);\n",
              "    }\n",
              "    40% {\n",
              "      border-color: transparent;\n",
              "      border-right-color: var(--fill-color);\n",
              "      border-top-color: var(--fill-color);\n",
              "    }\n",
              "    60% {\n",
              "      border-color: transparent;\n",
              "      border-right-color: var(--fill-color);\n",
              "    }\n",
              "    80% {\n",
              "      border-color: transparent;\n",
              "      border-right-color: var(--fill-color);\n",
              "      border-bottom-color: var(--fill-color);\n",
              "    }\n",
              "    90% {\n",
              "      border-color: transparent;\n",
              "      border-bottom-color: var(--fill-color);\n",
              "    }\n",
              "  }\n",
              "</style>\n",
              "\n",
              "  <script>\n",
              "    async function quickchart(key) {\n",
              "      const quickchartButtonEl =\n",
              "        document.querySelector('#' + key + ' button');\n",
              "      quickchartButtonEl.disabled = true;  // To prevent multiple clicks.\n",
              "      quickchartButtonEl.classList.add('colab-df-spinner');\n",
              "      try {\n",
              "        const charts = await google.colab.kernel.invokeFunction(\n",
              "            'suggestCharts', [key], {});\n",
              "      } catch (error) {\n",
              "        console.error('Error during call to suggestCharts:', error);\n",
              "      }\n",
              "      quickchartButtonEl.classList.remove('colab-df-spinner');\n",
              "      quickchartButtonEl.classList.add('colab-df-quickchart-complete');\n",
              "    }\n",
              "    (() => {\n",
              "      let quickchartButtonEl =\n",
              "        document.querySelector('#df-359bb095-7f47-4150-98c7-50a62cc77740 button');\n",
              "      quickchartButtonEl.style.display =\n",
              "        google.colab.kernel.accessAllowed ? 'block' : 'none';\n",
              "    })();\n",
              "  </script>\n",
              "</div>\n",
              "\n",
              "  <div id=\"id_1bced04b-c847-468b-b784-ec8ff4195620\">\n",
              "    <style>\n",
              "      .colab-df-generate {\n",
              "        background-color: #E8F0FE;\n",
              "        border: none;\n",
              "        border-radius: 50%;\n",
              "        cursor: pointer;\n",
              "        display: none;\n",
              "        fill: #1967D2;\n",
              "        height: 32px;\n",
              "        padding: 0 0 0 0;\n",
              "        width: 32px;\n",
              "      }\n",
              "\n",
              "      .colab-df-generate:hover {\n",
              "        background-color: #E2EBFA;\n",
              "        box-shadow: 0px 1px 2px rgba(60, 64, 67, 0.3), 0px 1px 3px 1px rgba(60, 64, 67, 0.15);\n",
              "        fill: #174EA6;\n",
              "      }\n",
              "\n",
              "      [theme=dark] .colab-df-generate {\n",
              "        background-color: #3B4455;\n",
              "        fill: #D2E3FC;\n",
              "      }\n",
              "\n",
              "      [theme=dark] .colab-df-generate:hover {\n",
              "        background-color: #434B5C;\n",
              "        box-shadow: 0px 1px 3px 1px rgba(0, 0, 0, 0.15);\n",
              "        filter: drop-shadow(0px 1px 2px rgba(0, 0, 0, 0.3));\n",
              "        fill: #FFFFFF;\n",
              "      }\n",
              "    </style>\n",
              "    <button class=\"colab-df-generate\" onclick=\"generateWithVariable('sismos7')\"\n",
              "            title=\"Generate code using this dataframe.\"\n",
              "            style=\"display:none;\">\n",
              "\n",
              "  <svg xmlns=\"http://www.w3.org/2000/svg\" height=\"24px\"viewBox=\"0 0 24 24\"\n",
              "       width=\"24px\">\n",
              "    <path d=\"M7,19H8.4L18.45,9,17,7.55,7,17.6ZM5,21V16.75L18.45,3.32a2,2,0,0,1,2.83,0l1.4,1.43a1.91,1.91,0,0,1,.58,1.4,1.91,1.91,0,0,1-.58,1.4L9.25,21ZM18.45,9,17,7.55Zm-12,3A5.31,5.31,0,0,0,4.9,8.1,5.31,5.31,0,0,0,1,6.5,5.31,5.31,0,0,0,4.9,4.9,5.31,5.31,0,0,0,6.5,1,5.31,5.31,0,0,0,8.1,4.9,5.31,5.31,0,0,0,12,6.5,5.46,5.46,0,0,0,6.5,12Z\"/>\n",
              "  </svg>\n",
              "    </button>\n",
              "    <script>\n",
              "      (() => {\n",
              "      const buttonEl =\n",
              "        document.querySelector('#id_1bced04b-c847-468b-b784-ec8ff4195620 button.colab-df-generate');\n",
              "      buttonEl.style.display =\n",
              "        google.colab.kernel.accessAllowed ? 'block' : 'none';\n",
              "\n",
              "      buttonEl.onclick = () => {\n",
              "        google.colab.notebook.generateWithVariable('sismos7');\n",
              "      }\n",
              "      })();\n",
              "    </script>\n",
              "  </div>\n",
              "\n",
              "    </div>\n",
              "  </div>\n"
            ],
            "application/vnd.google.colaboratory.intrinsic+json": {
              "type": "dataframe",
              "variable_name": "sismos7",
              "summary": "{\n  \"name\": \"sismos7\",\n  \"rows\": 68,\n  \"fields\": [\n    {\n      \"column\": \"Magnitud\",\n      \"properties\": {\n        \"dtype\": \"number\",\n        \"std\": 0.2778002137071408,\n        \"min\": 7.1,\n        \"max\": 8.2,\n        \"num_unique_values\": 12,\n        \"samples\": [\n          8.1,\n          7.9,\n          7.4\n        ],\n        \"semantic_type\": \"\",\n        \"description\": \"\"\n      }\n    },\n    {\n      \"column\": \"Fecha UTC\",\n      \"properties\": {\n        \"dtype\": \"object\",\n        \"num_unique_values\": 68,\n        \"samples\": [\n          \"10/25/1981\",\n          \"3/22/1928\",\n          \"1/14/1903\"\n        ],\n        \"semantic_type\": \"\",\n        \"description\": \"\"\n      }\n    },\n    {\n      \"column\": \"Hora UTC\",\n      \"properties\": {\n        \"dtype\": \"object\",\n        \"num_unique_values\": 68,\n        \"samples\": [\n          \"3:22:16\",\n          \"4:17:30\",\n          \"1:47:36\"\n        ],\n        \"semantic_type\": \"\",\n        \"description\": \"\"\n      }\n    }\n  ]\n}"
            }
          },
          "metadata": {},
          "execution_count": 59
        }
      ]
    },
    {
      "cell_type": "code",
      "source": [],
      "metadata": {
        "id": "ZTWzncnzpzFP"
      },
      "execution_count": 59,
      "outputs": []
    },
    {
      "cell_type": "code",
      "source": [
        "sismos7['fecha_hora'] = pd.to_datetime(sismos7['Fecha UTC'] + ' ' + sismos7['Hora UTC'])\n",
        "\n",
        "# Calcula los tiempos de interllegada\n",
        "sismos7['tiempo_interllegada'] = sismos7['fecha_hora'].diff()\n",
        "\n",
        "# Convierte los tiempos de interllegada a días\n",
        "sismos7['tiempo_interllegada_dias'] = sismos7['tiempo_interllegada'].dt.total_seconds() / (24 * 3600)\n",
        "\n",
        "# Acumula los tiempos de interllegada\n",
        "sismos7['tiempo_acumulado'] = sismos7['tiempo_interllegada_dias'].cumsum()\n",
        "\n",
        "print(sismos7[['fecha_hora', 'tiempo_interllegada_dias']])"
      ],
      "metadata": {
        "colab": {
          "base_uri": "https://localhost:8080/"
        },
        "id": "bOLNAe_8Ot3u",
        "outputId": "b2f1928d-b39d-4e3a-f2ef-a60aeb07cfa9"
      },
      "execution_count": 60,
      "outputs": [
        {
          "output_type": "stream",
          "name": "stdout",
          "text": [
            "            fecha_hora  tiempo_interllegada_dias\n",
            "0  1900-01-19 06:33:30                       NaN\n",
            "1  1902-04-19 02:23:00                819.826042\n",
            "2  1902-09-23 20:18:00                157.746528\n",
            "3  1902-12-12 23:10:00                 80.119444\n",
            "4  1903-01-14 01:47:36                 32.109444\n",
            "..                 ...                       ...\n",
            "63 2017-09-19 18:14:39                 11.559282\n",
            "64 2018-02-16 23:39:39                150.225694\n",
            "65 2020-06-23 15:29:03                857.659306\n",
            "66 2021-09-08 01:47:46                441.429664\n",
            "67 2022-09-19 18:05:09                376.678738\n",
            "\n",
            "[68 rows x 2 columns]\n"
          ]
        }
      ]
    },
    {
      "cell_type": "code",
      "source": [
        "#ordena de mayor a menor\n",
        "tiempo=sismos7.sort_values(by='tiempo_interllegada_dias', ascending=False)\n"
      ],
      "metadata": {
        "id": "meSwK6dOsTIB"
      },
      "execution_count": 61,
      "outputs": []
    },
    {
      "cell_type": "code",
      "source": [
        "#elige solo la columna de tiempo_interllegada_dias\n",
        "tiempo_interllegada = tiempo['tiempo_interllegada_dias']\n",
        "print(tiempo_interllegada)\n"
      ],
      "metadata": {
        "colab": {
          "base_uri": "https://localhost:8080/"
        },
        "id": "hXkv6-sdsznJ",
        "outputId": "5004ec41-bb78-48b3-e866-fcca4e593ccc"
      },
      "execution_count": 62,
      "outputs": [
        {
          "output_type": "stream",
          "name": "stdout",
          "text": [
            "50    2911.733137\n",
            "58    2629.857037\n",
            "16    2602.829699\n",
            "34    2417.766898\n",
            "32    2308.343356\n",
            "         ...     \n",
            "22      14.982847\n",
            "63      11.559282\n",
            "53      11.460463\n",
            "49       1.513484\n",
            "0             NaN\n",
            "Name: tiempo_interllegada_dias, Length: 68, dtype: float64\n"
          ]
        }
      ]
    },
    {
      "cell_type": "code",
      "source": [
        "# Suponiendo que tiempo_acumulado es una serie de Pandas\n",
        "#cambia de serie a lista\n",
        "tiempo_interllegada_lista = tiempo_interllegada.tolist()\n",
        "print(tiempo_interllegada_lista)"
      ],
      "metadata": {
        "colab": {
          "base_uri": "https://localhost:8080/"
        },
        "id": "6p6moVDYuI_i",
        "outputId": "8eca8d01-141c-448f-f038-182a896c148d"
      },
      "execution_count": 63,
      "outputs": [
        {
          "output_type": "stream",
          "name": "stdout",
          "text": [
            "[2911.7331365740743, 2629.857037037037, 2602.829699074074, 2417.7668981481484, 2308.3433564814814, 1977.2930092592592, 1748.2304050925925, 1238.5985648148148, 1209.3995486111112, 1188.288773148148, 1074.7642939814814, 1068.152361111111, 1029.4521296296296, 1007.291412037037, 991.8352662037037, 926.3566550925926, 889.9660300925926, 877.6379976851852, 857.6593055555555, 834.2270833333333, 827.9510648148148, 819.8260416666667, 786.715462962963, 733.7858333333334, 715.8070138888888, 677.0075, 634.9964930555556, 590.1571875, 589.2374537037037, 526.910775462963, 526.0274305555556, 505.36541666666665, 491.9431597222222, 490.49194444444447, 478.1855092592593, 441.42966435185184, 413.51653935185186, 376.6787384259259, 369.368125, 365.5199074074074, 348.1385648148148, 331.6063657407407, 321.72230324074076, 237.12480324074073, 231.9396064814815, 209.53436342592593, 199.4053935185185, 192.3413888888889, 184.3675, 162.33763888888888, 157.74652777777777, 150.39635416666667, 150.22569444444446, 127.02038194444444, 114.66041666666666, 104.63501157407407, 86.95969907407408, 80.11944444444444, 65.35614583333333, 51.91840277777778, 48.63112268518518, 32.10944444444444, 25.0634375, 14.982847222222222, 11.559282407407407, 11.460462962962962, 1.5134837962962964, nan]\n"
          ]
        }
      ]
    },
    {
      "cell_type": "code",
      "source": [
        "#Genera lista de interllegado(eje x)\n",
        "interllegada_lista = []\n",
        "for iterllegadas in tiempo_interllegada_lista[:-1]:\n",
        "  interllegada_lista.append(iterllegadas)\n",
        "\n",
        "#interllegadas sin NaN\n",
        "#print(interllegada_lista)\n"
      ],
      "metadata": {
        "id": "yXBmhtUxocBe"
      },
      "execution_count": 64,
      "outputs": []
    },
    {
      "cell_type": "code",
      "source": [
        "n = 67  # n=numero de interllegafdas\n",
        "estimador_insesgado = np.linspace(1/(n+1), n/(n+1), n)\n",
        "print(estimador_insesgado)"
      ],
      "metadata": {
        "id": "FfPVfilTpaen",
        "outputId": "857be396-5040-43a5-96e4-7f20f0497046",
        "colab": {
          "base_uri": "https://localhost:8080/"
        }
      },
      "execution_count": 67,
      "outputs": [
        {
          "output_type": "stream",
          "name": "stdout",
          "text": [
            "[0.01470588 0.02941176 0.04411765 0.05882353 0.07352941 0.08823529\n",
            " 0.10294118 0.11764706 0.13235294 0.14705882 0.16176471 0.17647059\n",
            " 0.19117647 0.20588235 0.22058824 0.23529412 0.25       0.26470588\n",
            " 0.27941176 0.29411765 0.30882353 0.32352941 0.33823529 0.35294118\n",
            " 0.36764706 0.38235294 0.39705882 0.41176471 0.42647059 0.44117647\n",
            " 0.45588235 0.47058824 0.48529412 0.5        0.51470588 0.52941176\n",
            " 0.54411765 0.55882353 0.57352941 0.58823529 0.60294118 0.61764706\n",
            " 0.63235294 0.64705882 0.66176471 0.67647059 0.69117647 0.70588235\n",
            " 0.72058824 0.73529412 0.75       0.76470588 0.77941176 0.79411765\n",
            " 0.80882353 0.82352941 0.83823529 0.85294118 0.86764706 0.88235294\n",
            " 0.89705882 0.91176471 0.92647059 0.94117647 0.95588235 0.97058824\n",
            " 0.98529412]\n"
          ]
        }
      ]
    },
    {
      "cell_type": "markdown",
      "source": [
        "semilog (x,y),  "
      ],
      "metadata": {
        "id": "-DgzAHO9tpUu"
      }
    },
    {
      "cell_type": "code",
      "source": [
        "# Grafica los datos\n",
        "#interllegada_lista debe ser igual a estimador_insesgado\n",
        "plt.semilogy(interllegada_lista,estimador_insesgado, marker='o', linestyle='-')\n",
        "plt.xlabel('Tiempo de Interllegada (días)')\n",
        "plt.ylabel('Valores')\n",
        "plt.title('Gráfica de Tiempo de Interllegada vs. Valores')\n",
        "plt.grid(True)\n",
        "plt.show()"
      ],
      "metadata": {
        "id": "y3EcprcfsLqW",
        "outputId": "1f43f19a-0ece-4941-95d9-1bcb254dc6a2",
        "colab": {
          "base_uri": "https://localhost:8080/",
          "height": 473
        }
      },
      "execution_count": 69,
      "outputs": [
        {
          "output_type": "display_data",
          "data": {
            "text/plain": [
              "<Figure size 640x480 with 1 Axes>"
            ],
            "image/png": "[encoded data removed]"
          },
          "metadata": {}
        }
      ]
    }
  ]
}