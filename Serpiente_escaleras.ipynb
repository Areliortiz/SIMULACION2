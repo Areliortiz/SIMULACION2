{
  "nbformat": 4,
  "nbformat_minor": 0,
  "metadata": {
    "colab": {
      "provenance": [],
      "authorship_tag": "ABX9TyPDYv6pOBtv6APEQvjYJVkx",
      "include_colab_link": true
    },
    "kernelspec": {
      "name": "python3",
      "display_name": "Python 3"
    },
    "language_info": {
      "name": "python"
    }
  },
  "cells": [
    {
      "cell_type": "markdown",
      "metadata": {
        "id": "view-in-github",
        "colab_type": "text"
      },
      "source": [
        "<a href=\"https://colab.research.google.com/github/Areliortiz/SIMULACION2/blob/main/Serpiente_escaleras.ipynb\" target=\"_parent\"><img src=\"https://colab.research.google.com/assets/colab-badge.svg\" alt=\"Open In Colab\"/></a>"
      ]
    },
    {
      "cell_type": "markdown",
      "source": [
        "# Serpientes y escaleras\n",
        "![texto del vínculo](https://drive.google.com/uc?id=1-cqd28wmsE4cwPHO89PCsUsY53-aSfDy)\n",
        "\n",
        "¿Cuál es, en promedio, el número de tiradas necesarias para terminar el juego? Considerar que cada tirada se hace con un dado ordinario.\n",
        "\n",
        "\n",
        "Responder: \\\\\n",
        "a) Analíticamente. \\\\\n",
        "b) Por simulación."
      ],
      "metadata": {
        "id": "gFrnhGCsjrzZ"
      }
    },
    {
      "cell_type": "markdown",
      "source": [
        "Matriz de transicion:"
      ],
      "metadata": {
        "id": "Q0L1CzbCooue"
      }
    },
    {
      "cell_type": "markdown",
      "source": [
        "\n",
        "![texto alternativo](https://drive.google.com/uc?id=1DcqF-4egqNb81NgonT4TGUhYVYSWzwMB)\n",
        "\n"
      ],
      "metadata": {
        "id": "sY9AIF--lTKN"
      }
    },
    {
      "cell_type": "markdown",
      "source": [
        "Donde: \\\\\n",
        "Serpientes: \\\\\n",
        "Desde la casilla 13 hasta la 4. \\\\\n",
        "Desde la casilla 17 hasta la 10. \\\\\n",
        "\n",
        "Escaleras: \\\\\n",
        "Desde la casilla 3 hasta la 11. \\\\\n",
        "Desde la casilla 15 hasta la 19. \\\\\n",
        "\n",
        "La matriz de transición tiene estados absorbentes, que en este caso es la casilla 20. \\\\\n"
      ],
      "metadata": {
        "id": "XUnmB6QotnIw"
      }
    },
    {
      "cell_type": "markdown",
      "source": [
        "Solución para Cadenas de Markov absobentes: \\\\\n",
        "\n",
        "> Añadir blockquote\n",
        "\n",
        "\n",
        "La matriz de transición\n",
        "$p$ puede escribirse en bloques, separando los estados absorbentes de los estados transitorios:\n",
        "\n",
        "$$ P=  [ \\begin{matrix}\n",
        "Q & R\\\\\n",
        "0 & I\n",
        "\\end{matrix} ] $$\n",
        "Donde: \\\\\n",
        "I: Matriz Identidad \\\\\n",
        "0: Matriz Nula \\\\\n",
        "Q: Matriz No Absorbente \\\\\n",
        "R: Matriz Absorbente \\\\\n",
        "\n",
        "El valor esperado se calcula como: \\\\\n",
        "N=$(I−Q)^{-1} $ \\\\\n",
        "\n",
        "Para calcular el tiempo esperado de absorción desde cualquier estado inicial usaremos la sig. formula \\\\\n",
        "\n",
        "$t = N*R$\n"
      ],
      "metadata": {
        "id": "efWYr1kk31fD"
      }
    },
    {
      "cell_type": "code",
      "source": [
        "import random as rnd\n",
        "import numpy as np\n",
        "import pandas as pd\n",
        "import matplotlib.pyplot as plt"
      ],
      "metadata": {
        "id": "BfggFopo-IMu"
      },
      "execution_count": 3,
      "outputs": []
    },
    {
      "cell_type": "code",
      "execution_count": 35,
      "metadata": {
        "id": "pGKqAiNACmmP",
        "outputId": "aec79142-0e57-4515-9ac0-bd69c06d025f",
        "colab": {
          "base_uri": "https://localhost:8080/"
        }
      },
      "outputs": [
        {
          "output_type": "stream",
          "name": "stdout",
          "text": [
            "Promedio del número de tiradas necesarias para terminar el juegos: 6.9\n"
          ]
        }
      ],
      "source": [
        "# Numero de casillas totales del tablero\n",
        "casillas=20\n",
        "\n",
        "# Creamos nuestra matriz de transición\n",
        "M = np.array([\n",
        "    [0, 1/6, 0, 1/6, 1/6, 1/6, 1/6, 0, 0, 0, 1/6, 0, 0, 0, 0, 0, 0, 0, 0, 0],\n",
        "    [0, 0, 0, 1/6, 1/6, 1/6, 1/6, 1/6, 0, 0, 1/6, 0, 0, 0, 0, 0, 0, 0, 0, 0],\n",
        "    [0, 0, 0, 0, 0, 0, 0, 0, 0, 0, 1, 0, 0, 0, 0, 0, 0, 0, 0, 0],\n",
        "    [0, 0, 0, 0, 1/6, 1/6, 1/6, 1/6, 1/6, 1/6, 0, 0, 0, 0, 0, 0, 0, 0, 0, 0],\n",
        "    [0, 0, 0, 0, 0, 1/6, 1/6, 1/6, 1/6, 1/6, 1/6, 0, 0, 0, 0, 0, 0, 0, 0, 0],\n",
        "    [0, 0, 0, 0, 0, 0, 1/6, 1/6, 1/6, 1/6, 1/6, 1/6, 0, 0, 0, 0, 0, 0, 0, 0],\n",
        "    [0, 0, 0, 1/6, 0, 0, 0, 1/6, 1/6, 1/6, 1/6, 1/6, 0, 0, 0, 0, 0, 0, 0, 0],\n",
        "    [0, 0, 0, 1/6, 0, 0, 0, 0, 1/6, 1/6, 1/6, 1/6, 0, 1/6, 0, 0, 0, 0, 0, 0],\n",
        "    [0, 0, 0, 1/6, 0, 0, 0, 0, 0, 1/6, 1/6, 1/6, 0, 1/6, 0, 0, 0, 0, 1/6, 0],\n",
        "    [0, 0, 0, 1/6, 0, 0, 0, 0, 0, 0, 1/6, 1/6, 0, 1/6, 0, 1/6, 0, 0, 1/6, 0],\n",
        "    [0, 0, 0, 1/6, 0, 0, 0, 0, 0, 1/6, 0, 1/6, 0, 1/6, 0, 1/6, 0, 0, 1/6, 0],\n",
        "    [0, 0, 0, 1/6, 0, 0, 0, 0, 0, 1/6, 0, 0, 0, 1/6, 0, 1/6, 0, 1/6, 1/6, 0],\n",
        "    [0, 0, 0, 1, 0, 0, 0, 0, 0, 0, 0, 0, 0, 0, 0, 0, 0, 0, 0, 0],\n",
        "    [0, 0, 0, 0, 0, 0, 0, 0, 0, 1/6, 0, 0, 0, 0, 0, 1/6, 0, 1/6, 1/3, 1/6],\n",
        "    [0, 0, 0, 0, 0, 0, 0, 0, 0, 0, 0, 0, 0, 0, 0, 0, 0, 0, 1, 0],\n",
        "    [0, 0, 0, 0, 0, 0, 0, 0, 0, 1/6, 0, 0, 0, 0, 0, 0, 0, 1/6, 1/6, 1/2],\n",
        "    [0, 0, 0, 0, 0, 0, 0, 0, 0, 1, 0, 0, 0, 0, 0, 0, 0, 0, 0, 0],\n",
        "    [0, 0, 0, 0, 0, 0, 0, 0, 0, 0, 0, 0, 0, 0, 0, 0, 0, 0, 1/6, 5/6],\n",
        "    [0, 0, 0, 0, 0, 0, 0, 0, 0, 0, 0, 0, 0, 0, 0, 0, 0, 0, 0, 1],\n",
        "    [0, 0, 0, 0, 0, 0, 0, 0, 0, 0, 0, 0, 0, 0, 0, 0, 0, 0, 0, 1]\n",
        "])\n",
        "\n",
        "Q = M[:-1, :-1]\n",
        "I = np.eye(casillas - 1)\n",
        "\n",
        "# Calculamos N = (I - Q)^-1\n",
        "N= np.linalg.inv(I - Q)\n",
        "df = pd.DataFrame(M)\n",
        "\n",
        "#  tiempo esperado de absorción\n",
        "tiempo =  np.sum(N[0, :])\n",
        "\n",
        "print(f\"Promedio del número de tiradas necesarias para terminar el juegos: {round(tiempo, 2)}\")"
      ]
    },
    {
      "cell_type": "code",
      "source": [
        "#creamos codigo con restricciones del tablero\n",
        "def serpientes_escaleras():\n",
        "  #inicia en 1 el juego\n",
        "   Posicion=1\n",
        "   Tiradas=0\n",
        "   Dado=0\n",
        "#si el juego es menor a 20 seguimos jugando\n",
        "   while Posicion < 20:\n",
        "\n",
        "       Dado = rnd.randint(1, 6) # lanza el dado\n",
        "       Posicion += Dado #nos movemos de lugar\n",
        "\n",
        "       if Posicion == 3: # si cae 3 subimos por la escalera al 11\n",
        "          Posicion=11\n",
        "\n",
        "       elif Posicion == 15:# si cae 15 subimos por la escalera al 19\n",
        "          Posicion=19\n",
        "\n",
        "       elif Posicion ==13: # si cae 13 bajamos por la serpiente al 4\n",
        "          Posicion=4\n",
        "\n",
        "       elif Posicion == 17: # si cae 17 bajamos por la serpiente al 10\n",
        "          Posicion= 10\n",
        "\n",
        "       Tiradas+= 1 #contamos las tiradas\n",
        "\n",
        "   return Tiradas"
      ],
      "metadata": {
        "id": "p9q9sVQ0DGkm"
      },
      "execution_count": 5,
      "outputs": []
    },
    {
      "cell_type": "code",
      "source": [
        "#repetimos el experimento n veces\n",
        "def simulacion(num_simulacion):\n",
        "  total_tiradas = 0\n",
        "  lista_tiradas = []\n",
        "  for _ in range(num_simulacion):\n",
        "     lista_tiradas.append(serpientes_escaleras())\n",
        "     total_tiradas += serpientes_escaleras()\n",
        "\n",
        "  promedio= total_tiradas / num_simulacion\n",
        "  return promedio,lista_tiradas\n",
        "\n"
      ],
      "metadata": {
        "id": "ho0OWM3vJ4At"
      },
      "execution_count": 6,
      "outputs": []
    },
    {
      "cell_type": "code",
      "source": [
        "num_simulacion=10000\n",
        "promedio,lista_tiradas = simulacion(num_simulacion)\n",
        "print(f\"Promedio del número de tiradas necesarias para terminar el juegos: {round(promedio, 2)}\")\n",
        "#print(f\"Lista de tiradas: {lista_tiradas}\")\n",
        "plt.hist(lista_tiradas, bins=25, color='green', alpha=0.3)\n",
        "plt.title('lista de tiradas')\n",
        "plt.axvline(np.mean(lista_tiradas), color='red', linestyle='-', linewidth=2, label='Media')\n",
        "plt.xlabel('lista_tiradas')\n",
        "plt.ylabel('Frecuencia')\n",
        "plt.legend()\n",
        "plt.show()\n"
      ],
      "metadata": {
        "id": "-KM_yEBNJTNS",
        "outputId": "efb49f9f-5181-4a19-fde2-0ab3cb7d8648",
        "colab": {
          "base_uri": "https://localhost:8080/",
          "height": 489
        }
      },
      "execution_count": 10,
      "outputs": [
        {
          "output_type": "stream",
          "name": "stdout",
          "text": [
            "Promedio del número de tiradas necesarias para terminar el juegos: 6.86\n"
          ]
        },
        {
          "output_type": "display_data",
          "data": {
            "text/plain": [
              "<Figure size 640x480 with 1 Axes>"
            ],
            "image/png": "[encoded data removed]"
          },
          "metadata": {}
        }
      ]
    }
  ]
}