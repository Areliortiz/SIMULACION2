{
  "nbformat": 4,
  "nbformat_minor": 0,
  "metadata": {
    "colab": {
      "provenance": [],
      "authorship_tag": "ABX9TyPsvdtiHpR4SrJ9s/+RP6Ki",
      "include_colab_link": true
    },
    "kernelspec": {
      "name": "python3",
      "display_name": "Python 3"
    },
    "language_info": {
      "name": "python"
    }
  },
  "cells": [
    {
      "cell_type": "markdown",
      "metadata": {
        "id": "view-in-github",
        "colab_type": "text"
      },
      "source": [
        "<a href=\"https://colab.research.google.com/github/Areliortiz/SIMULACION2/blob/main/Untitled9.ipynb\" target=\"_parent\"><img src=\"https://colab.research.google.com/assets/colab-badge.svg\" alt=\"Open In Colab\"/></a>"
      ]
    },
    {
      "cell_type": "markdown",
      "source": [
        "## FRECUENTISTAS Y BAYESIANOS"
      ],
      "metadata": {
        "id": "FbcZE5QP-6oH"
      }
    },
    {
      "cell_type": "markdown",
      "source": [
        "Frecuentistas: Creen que la probabilidad solo tiene sentido en experimentos\n",
        "repetidos y que mide la frecuencia con la que un evento ocurre.\n",
        "\n",
        "Bayesianos: Creen que la probabilidad refleja nuestro grado de conocimiento o certeza sobre un evento, y se puede aplicar tanto a eventos repetidos como a situaciones únicas."
      ],
      "metadata": {
        "id": "lju8ge-i_Jwk"
      }
    },
    {
      "cell_type": "code",
      "execution_count": null,
      "metadata": {
        "id": "G5L4nSDe-2yR"
      },
      "outputs": [],
      "source": [
        "#iportar librerias\n",
        "import numpy as np\n",
        "import matplotlib.pyplot as plt"
      ]
    },
    {
      "cell_type": "markdown",
      "source": [
        "Ejemplo: Mediciones de flujo de fotones.\n",
        "\n",
        "F: flujo real de fotones de la estrella\n",
        "N: numero de mediones\n",
        "\n",
        "$F_i$: flujo observado\n",
        "\n",
        "$e_i$: error de medición"
      ],
      "metadata": {
        "id": "XxdfF6Bm_nUd"
      }
    },
    {
      "cell_type": "code",
      "source": [
        "np.random.seed(2)  # para reproducibilidad\n",
        "e = np.random.normal(30, 3, 50)\n",
        "F = np.random.normal(1000, e)\n"
      ],
      "metadata": {
        "id": "LuJcUO1-_ao5"
      },
      "execution_count": null,
      "outputs": []
    }
  ]
}