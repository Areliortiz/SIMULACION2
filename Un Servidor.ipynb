{
  "nbformat": 4,
  "nbformat_minor": 0,
  "metadata": {
    "colab": {
      "provenance": [],
      "authorship_tag": "ABX9TyNXhoD0/RIOM/SQv3VrHBxi",
      "include_colab_link": true
    },
    "kernelspec": {
      "name": "python3",
      "display_name": "Python 3"
    },
    "language_info": {
      "name": "python"
    }
  },
  "cells": [
    {
      "cell_type": "markdown",
      "metadata": {
        "id": "view-in-github",
        "colab_type": "text"
      },
      "source": [
        "<a href=\"https://colab.research.google.com/github/Areliortiz/SIMULACION2/blob/main/Un%20Servidor.ipynb\" target=\"_parent\"><img src=\"https://colab.research.google.com/assets/colab-badge.svg\" alt=\"Open In Colab\"/></a>"
      ]
    },
    {
      "cell_type": "markdown",
      "source": [
        "# **línea de espera con un solo servidor. **\n",
        "Ejemplo, fila para comprar boletos en línea."
      ],
      "metadata": {
        "id": "d54ftHzZhe9p"
      }
    },
    {
      "cell_type": "code",
      "source": [
        "#importar librerias\n",
        "import random\n",
        "import math\n"
      ],
      "metadata": {
        "id": "IGux9O3LhLgb"
      },
      "execution_count": 22,
      "outputs": []
    },
    {
      "cell_type": "code",
      "source": [
        "# Funciones para generar tiempos\n",
        "def generar_tiempo_llegada():\n",
        "    \"\"\"Genera el tiempo entre llegadas basado en una distribución exponencial.\"\"\"\n",
        "    tasa_llegada = 1 / 2  # Un cliente llega cada 5 minutos en promedio\n",
        "    return -math.log(1 - random.random()) / tasa_llegada\n",
        "\n",
        "def generar_tiempo_servicio():\n",
        "    \"\"\"Genera el tiempo de servicio basado en una distribución exponencial.\"\"\"\n",
        "    tasa_servicio = 1 / 3  # Cada compra tarda 3 minutos en promedio\n",
        "    return -math.log(1 - random.random()) / tasa_servicio"
      ],
      "metadata": {
        "id": "z8s0tRNVhQAi"
      },
      "execution_count": 23,
      "outputs": []
    },
    {
      "cell_type": "code",
      "source": [
        "# Variables de estado\n",
        "t = 0  # Tiempo actual\n",
        "tLL = generar_tiempo_llegada()  # Tiempo de la próxima llegada\n",
        "tS = float('inf')  # Tiempo de fin de servicio (inicialmente infinito)\n",
        "n = 0  # Número de clientes en el sistema\n",
        "NLL = 0  # Número total de llegadas\n",
        "NS = 0  # Número total de salidas\n",
        "Tp = 0  # Tiempo de permanencia total en el sistema\n",
        "\n",
        "# Registro de eventos\n",
        "LL = []  # Tiempos de llegada\n",
        "S = []  # Tiempos de salida\n",
        "\n",
        "# Parámetros de simulación\n",
        "T = 100  # Tiempo límite de simulación (en minutos)"
      ],
      "metadata": {
        "id": "AmccXT59hWNa"
      },
      "execution_count": 24,
      "outputs": []
    },
    {
      "cell_type": "code",
      "source": [
        "while t < T or (tLL > T and n > 0):\n",
        "    if tLL <= tS and tLL <= T:\n",
        "        # Caso 1: Llega un cliente\n",
        "        t = tLL\n",
        "        NLL += 1\n",
        "        n += 1\n",
        "        LL.append(t)\n",
        "        tLL = t + generar_tiempo_llegada()\n",
        "        if n == 1:\n",
        "            # Si es el único cliente, empieza el servicio\n",
        "            tS = t + generar_tiempo_servicio()\n",
        "    elif tS <= tLL and tS <= T:\n",
        "        # Caso 2: Un cliente termina su servicio\n",
        "        t = tS\n",
        "        NS += 1\n",
        "        n -= 1\n",
        "        S.append(t)\n",
        "        if n > 0:\n",
        "            # Si hay más clientes en la fila, atender al siguiente\n",
        "            tS = t + generar_tiempo_servicio()\n",
        "        else:\n",
        "            # Si no hay más clientes, el servidor queda inactivo\n",
        "            tS = float('inf')\n",
        "    elif tLL > T and tS > T and n > 0:\n",
        "        # Caso 3: Finaliza el tiempo de simulación, pero quedan clientes en cola\n",
        "        t = tS\n",
        "        NS += 1\n",
        "        n -= 1\n",
        "        S.append(t)\n",
        "        if n > 0:\n",
        "            # Atender al siguiente cliente\n",
        "            tS = t + generar_tiempo_servicio()\n",
        "        else:\n",
        "            # No quedan clientes\n",
        "            tS = float('inf')\n",
        "    elif tLL > T and tS > T and n == 0:\n",
        "        # Caso 4: Finaliza el tiempo de simulación y no hay más clientes\n",
        "        Tp = max(0, t - T)  # Tiempo que excede el límite de simulación\n",
        "        break\n",
        "\n"
      ],
      "metadata": {
        "id": "T1CgkZm9hAL5"
      },
      "execution_count": 25,
      "outputs": []
    },
    {
      "cell_type": "code",
      "source": [
        "\n",
        "# Calcular el tiempo promedio de espera\n",
        "tiempos_espera = [s - ll for s, ll in zip(S, LL)]\n",
        "Tp_promedio = sum(tiempos_espera) / len(tiempos_espera) if tiempos_espera else 0\n",
        "\n"
      ],
      "metadata": {
        "id": "f6M2_gCUhbD9"
      },
      "execution_count": 26,
      "outputs": []
    },
    {
      "cell_type": "code",
      "source": [
        "# Resultados\n",
        "print(f\"Total de clientes que llegaron: {NLL}\")\n",
        "print(f\"Total de clientes que salieron: {NS}\")\n",
        "print(f\"Tiempo promedio de espera en el sistema: {Tp_promedio:.2f} minutos\")\n",
        "print(f\"Tiempos de llegada: {LL}\")\n",
        "print(f\"Tiempos de salida: {S}\")\n",
        "print(f\"Tiempo excedido al final de la simulación: {Tp:.2f} minutos\")"
      ],
      "metadata": {
        "colab": {
          "base_uri": "https://localhost:8080/"
        },
        "id": "yShw2V9dhcr_",
        "outputId": "907dc596-4fde-4bd6-dc95-01b9cce8d893"
      },
      "execution_count": 29,
      "outputs": [
        {
          "output_type": "stream",
          "name": "stdout",
          "text": [
            "Total de clientes que llegaron: 51\n",
            "Total de clientes que salieron: 51\n",
            "Tiempo promedio de espera en el sistema: 22.86 minutos\n",
            "Tiempos de llegada: [2.608589629715456, 4.734729774186957, 8.12459366980435, 10.118872089331417, 10.20770276335758, 13.186996362926752, 19.080551890952073, 21.801126343993907, 23.42885889103011, 24.027947645200246, 25.416657022707124, 25.545410065717043, 27.811661273961622, 28.23698147150381, 29.80767420756872, 31.197324077207846, 33.066397637355166, 34.6604230671187, 34.98466275679171, 39.91936237764456, 41.511711870634706, 43.00327193937896, 45.57616061644868, 45.836074969543965, 46.35667733768331, 46.50811963415569, 48.290425368979214, 51.63217466753172, 56.91182228068069, 57.16667567830224, 60.97293235879593, 61.455148136758865, 61.57987342992676, 61.91861270329144, 62.22818802046847, 63.00288624223068, 64.09928415982903, 66.28358318749268, 66.30589241267884, 67.04022977272341, 71.32158231026766, 71.62223435475357, 75.6138589418492, 77.00204881658829, 77.93977598757638, 78.34492554258168, 83.12167088391148, 88.91310439984798, 89.55515678626092, 90.94230661325413, 93.07824588952057]\n",
            "Tiempos de salida: [4.626077718712882, 5.1070534980819495, 9.182433964458944, 10.190329035349306, 17.326885969771087, 25.279775388721422, 29.45594358305768, 32.464027770042456, 34.32184176765622, 34.70634086241691, 35.96904997384908, 45.151805580270576, 48.17236918067464, 48.87591697965091, 51.89480160998447, 54.44274199537963, 54.98239209652746, 57.05116487686883, 65.1849942867487, 65.76382053789547, 65.98042363225251, 71.65335506351624, 71.71236203671089, 73.70513303729125, 74.03345940307169, 75.95618968966927, 76.21524882957394, 78.31041728213803, 78.51262993237891, 79.44700020659661, 79.70108306256719, 79.85401864744354, 85.50358346056338, 86.4303483034753, 87.773894988499, 92.3150835818596, 93.416811626726, 94.03722725806041, 95.04332681112346, 96.64927465668907, 96.79604378861858, 100.92783506083077, 103.7385098098687, 107.0086384970762, 108.2695405568912, 115.76173798178336, 119.0352871287267, 120.50348033739351, 125.75425349392346, 131.60076185757066, 132.91174204432795]\n",
            "Tiempo excedido al final de la simulación: 0.00 minutos\n"
          ]
        }
      ]
    }
  ]
}