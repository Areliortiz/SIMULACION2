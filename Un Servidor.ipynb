{
  "nbformat": 4,
  "nbformat_minor": 0,
  "metadata": {
    "colab": {
      "provenance": [],
      "authorship_tag": "ABX9TyMYqXYx9oA1LoBsziljQgvo",
      "include_colab_link": true
    },
    "kernelspec": {
      "name": "python3",
      "display_name": "Python 3"
    },
    "language_info": {
      "name": "python"
    }
  },
  "cells": [
    {
      "cell_type": "markdown",
      "metadata": {
        "id": "view-in-github",
        "colab_type": "text"
      },
      "source": [
        "<a href=\"https://colab.research.google.com/github/Areliortiz/SIMULACION2/blob/main/Un%20Servidor.ipynb\" target=\"_parent\"><img src=\"https://colab.research.google.com/assets/colab-badge.svg\" alt=\"Open In Colab\"/></a>"
      ]
    },
    {
      "cell_type": "code",
      "execution_count": null,
      "metadata": {
        "id": "F9SoWCg1dC5P"
      },
      "outputs": [],
      "source": [
        "Un Servidor"
      ]
    },
    {
      "cell_type": "code",
      "source": [
        "T=0"
      ],
      "metadata": {
        "id": "YPHWV76s3fBe"
      },
      "execution_count": 2,
      "outputs": []
    }
  ]
}