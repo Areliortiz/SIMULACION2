{
  "nbformat": 4,
  "nbformat_minor": 0,
  "metadata": {
    "colab": {
      "provenance": [],
      "authorship_tag": "ABX9TyORMwlA6LYsOynS24Q8WucN",
      "include_colab_link": true
    },
    "kernelspec": {
      "name": "python3",
      "display_name": "Python 3"
    },
    "language_info": {
      "name": "python"
    },
    "widgets": {
      "application/vnd.jupyter.widget-state+json": {
        "f4d19a02ad0f440d868e4bd16d1d67de": {
          "model_module": "@jupyter-widgets/output",
          "model_name": "OutputModel",
          "model_module_version": "1.0.0",
          "state": {
            "_dom_classes": [],
            "_model_module": "@jupyter-widgets/output",
            "_model_module_version": "1.0.0",
            "_model_name": "OutputModel",
            "_view_count": null,
            "_view_module": "@jupyter-widgets/output",
            "_view_module_version": "1.0.0",
            "_view_name": "OutputView",
            "layout": "IPY_MODEL_3f153481264b4fc3811ddef2b349d09d",
            "msg_id": "",
            "outputs": [
              {
                "output_type": "display_data",
                "data": {
                  "text/plain": "Sampling chain 0, 0 divergences \u001b[32m━━━━━━━━━━━━━━━━━━━━━━━━━━━━━━━━━━━━━━━━\u001b[0m \u001b[35m100%\u001b[0m \u001b[36m0:00:00\u001b[0m / \u001b[33m0:00:05\u001b[0m\n",
                  "text/html": "<pre style=\"white-space:pre;overflow-x:auto;line-height:normal;font-family:Menlo,'DejaVu Sans Mono',consolas,'Courier New',monospace\">Sampling chain 0, 0 divergences <span style=\"color: #008000; text-decoration-color: #008000\">━━━━━━━━━━━━━━━━━━━━━━━━━━━━━━━━━━━━━━━━</span> <span style=\"color: #800080; text-decoration-color: #800080\">100%</span> <span style=\"color: #008080; text-decoration-color: #008080\">0:00:00</span> / <span style=\"color: #808000; text-decoration-color: #808000\">0:00:05</span>\n</pre>\n"
                },
                "metadata": {}
              }
            ]
          }
        },
        "3f153481264b4fc3811ddef2b349d09d": {
          "model_module": "@jupyter-widgets/base",
          "model_name": "LayoutModel",
          "model_module_version": "1.2.0",
          "state": {
            "_model_module": "@jupyter-widgets/base",
            "_model_module_version": "1.2.0",
            "_model_name": "LayoutModel",
            "_view_count": null,
            "_view_module": "@jupyter-widgets/base",
            "_view_module_version": "1.2.0",
            "_view_name": "LayoutView",
            "align_content": null,
            "align_items": null,
            "align_self": null,
            "border": null,
            "bottom": null,
            "display": null,
            "flex": null,
            "flex_flow": null,
            "grid_area": null,
            "grid_auto_columns": null,
            "grid_auto_flow": null,
            "grid_auto_rows": null,
            "grid_column": null,
            "grid_gap": null,
            "grid_row": null,
            "grid_template_areas": null,
            "grid_template_columns": null,
            "grid_template_rows": null,
            "height": null,
            "justify_content": null,
            "justify_items": null,
            "left": null,
            "margin": null,
            "max_height": null,
            "max_width": null,
            "min_height": null,
            "min_width": null,
            "object_fit": null,
            "object_position": null,
            "order": null,
            "overflow": null,
            "overflow_x": null,
            "overflow_y": null,
            "padding": null,
            "right": null,
            "top": null,
            "visibility": null,
            "width": null
          }
        },
        "0f33d499eed84311a6333ece3e81446f": {
          "model_module": "@jupyter-widgets/output",
          "model_name": "OutputModel",
          "model_module_version": "1.0.0",
          "state": {
            "_dom_classes": [],
            "_model_module": "@jupyter-widgets/output",
            "_model_module_version": "1.0.0",
            "_model_name": "OutputModel",
            "_view_count": null,
            "_view_module": "@jupyter-widgets/output",
            "_view_module_version": "1.0.0",
            "_view_name": "OutputView",
            "layout": "IPY_MODEL_63d8cb2af5734ca88a0c9884067bcac6",
            "msg_id": "",
            "outputs": [
              {
                "output_type": "display_data",
                "data": {
                  "text/plain": "Sampling chain 1, 0 divergences \u001b[32m━━━━━━━━━━━━━━━━━━━━━━━━━━━━━━━━━━━━━━━━\u001b[0m \u001b[35m100%\u001b[0m \u001b[36m0:00:00\u001b[0m / \u001b[33m0:00:04\u001b[0m\n",
                  "text/html": "<pre style=\"white-space:pre;overflow-x:auto;line-height:normal;font-family:Menlo,'DejaVu Sans Mono',consolas,'Courier New',monospace\">Sampling chain 1, 0 divergences <span style=\"color: #008000; text-decoration-color: #008000\">━━━━━━━━━━━━━━━━━━━━━━━━━━━━━━━━━━━━━━━━</span> <span style=\"color: #800080; text-decoration-color: #800080\">100%</span> <span style=\"color: #008080; text-decoration-color: #008080\">0:00:00</span> / <span style=\"color: #808000; text-decoration-color: #808000\">0:00:04</span>\n</pre>\n"
                },
                "metadata": {}
              }
            ]
          }
        },
        "63d8cb2af5734ca88a0c9884067bcac6": {
          "model_module": "@jupyter-widgets/base",
          "model_name": "LayoutModel",
          "model_module_version": "1.2.0",
          "state": {
            "_model_module": "@jupyter-widgets/base",
            "_model_module_version": "1.2.0",
            "_model_name": "LayoutModel",
            "_view_count": null,
            "_view_module": "@jupyter-widgets/base",
            "_view_module_version": "1.2.0",
            "_view_name": "LayoutView",
            "align_content": null,
            "align_items": null,
            "align_self": null,
            "border": null,
            "bottom": null,
            "display": null,
            "flex": null,
            "flex_flow": null,
            "grid_area": null,
            "grid_auto_columns": null,
            "grid_auto_flow": null,
            "grid_auto_rows": null,
            "grid_column": null,
            "grid_gap": null,
            "grid_row": null,
            "grid_template_areas": null,
            "grid_template_columns": null,
            "grid_template_rows": null,
            "height": null,
            "justify_content": null,
            "justify_items": null,
            "left": null,
            "margin": null,
            "max_height": null,
            "max_width": null,
            "min_height": null,
            "min_width": null,
            "object_fit": null,
            "object_position": null,
            "order": null,
            "overflow": null,
            "overflow_x": null,
            "overflow_y": null,
            "padding": null,
            "right": null,
            "top": null,
            "visibility": null,
            "width": null
          }
        },
        "e912cd35237946f1981799c53831854a": {
          "model_module": "@jupyter-widgets/output",
          "model_name": "OutputModel",
          "model_module_version": "1.0.0",
          "state": {
            "_dom_classes": [],
            "_model_module": "@jupyter-widgets/output",
            "_model_module_version": "1.0.0",
            "_model_name": "OutputModel",
            "_view_count": null,
            "_view_module": "@jupyter-widgets/output",
            "_view_module_version": "1.0.0",
            "_view_name": "OutputView",
            "layout": "IPY_MODEL_0ab5aa1287044cba9b13688b68d5cd6c",
            "msg_id": "",
            "outputs": [
              {
                "output_type": "display_data",
                "data": {
                  "text/plain": "Sampling chain 0, 0 divergences \u001b[32m━━━━━━━━━━━━━━━━━━━━━━━━━━━━━━━━━━━━━━━━\u001b[0m \u001b[35m100%\u001b[0m \u001b[36m0:00:00\u001b[0m / \u001b[33m0:00:01\u001b[0m\n",
                  "text/html": "<pre style=\"white-space:pre;overflow-x:auto;line-height:normal;font-family:Menlo,'DejaVu Sans Mono',consolas,'Courier New',monospace\">Sampling chain 0, 0 divergences <span style=\"color: #008000; text-decoration-color: #008000\">━━━━━━━━━━━━━━━━━━━━━━━━━━━━━━━━━━━━━━━━</span> <span style=\"color: #800080; text-decoration-color: #800080\">100%</span> <span style=\"color: #008080; text-decoration-color: #008080\">0:00:00</span> / <span style=\"color: #808000; text-decoration-color: #808000\">0:00:01</span>\n</pre>\n"
                },
                "metadata": {}
              }
            ]
          }
        },
        "0ab5aa1287044cba9b13688b68d5cd6c": {
          "model_module": "@jupyter-widgets/base",
          "model_name": "LayoutModel",
          "model_module_version": "1.2.0",
          "state": {
            "_model_module": "@jupyter-widgets/base",
            "_model_module_version": "1.2.0",
            "_model_name": "LayoutModel",
            "_view_count": null,
            "_view_module": "@jupyter-widgets/base",
            "_view_module_version": "1.2.0",
            "_view_name": "LayoutView",
            "align_content": null,
            "align_items": null,
            "align_self": null,
            "border": null,
            "bottom": null,
            "display": null,
            "flex": null,
            "flex_flow": null,
            "grid_area": null,
            "grid_auto_columns": null,
            "grid_auto_flow": null,
            "grid_auto_rows": null,
            "grid_column": null,
            "grid_gap": null,
            "grid_row": null,
            "grid_template_areas": null,
            "grid_template_columns": null,
            "grid_template_rows": null,
            "height": null,
            "justify_content": null,
            "justify_items": null,
            "left": null,
            "margin": null,
            "max_height": null,
            "max_width": null,
            "min_height": null,
            "min_width": null,
            "object_fit": null,
            "object_position": null,
            "order": null,
            "overflow": null,
            "overflow_x": null,
            "overflow_y": null,
            "padding": null,
            "right": null,
            "top": null,
            "visibility": null,
            "width": null
          }
        },
        "c85311b40b044a74981746b3cf06a2e5": {
          "model_module": "@jupyter-widgets/output",
          "model_name": "OutputModel",
          "model_module_version": "1.0.0",
          "state": {
            "_dom_classes": [],
            "_model_module": "@jupyter-widgets/output",
            "_model_module_version": "1.0.0",
            "_model_name": "OutputModel",
            "_view_count": null,
            "_view_module": "@jupyter-widgets/output",
            "_view_module_version": "1.0.0",
            "_view_name": "OutputView",
            "layout": "IPY_MODEL_c6129f482e9a4279bb6088ac2e1e7fd6",
            "msg_id": "",
            "outputs": [
              {
                "output_type": "display_data",
                "data": {
                  "text/plain": "Sampling chain 1, 0 divergences \u001b[32m━━━━━━━━━━━━━━━━━━━━━━━━━━━━━━━━━━━━━━━━\u001b[0m \u001b[35m100%\u001b[0m \u001b[36m0:00:00\u001b[0m / \u001b[33m0:00:01\u001b[0m\n",
                  "text/html": "<pre style=\"white-space:pre;overflow-x:auto;line-height:normal;font-family:Menlo,'DejaVu Sans Mono',consolas,'Courier New',monospace\">Sampling chain 1, 0 divergences <span style=\"color: #008000; text-decoration-color: #008000\">━━━━━━━━━━━━━━━━━━━━━━━━━━━━━━━━━━━━━━━━</span> <span style=\"color: #800080; text-decoration-color: #800080\">100%</span> <span style=\"color: #008080; text-decoration-color: #008080\">0:00:00</span> / <span style=\"color: #808000; text-decoration-color: #808000\">0:00:01</span>\n</pre>\n"
                },
                "metadata": {}
              }
            ]
          }
        },
        "c6129f482e9a4279bb6088ac2e1e7fd6": {
          "model_module": "@jupyter-widgets/base",
          "model_name": "LayoutModel",
          "model_module_version": "1.2.0",
          "state": {
            "_model_module": "@jupyter-widgets/base",
            "_model_module_version": "1.2.0",
            "_model_name": "LayoutModel",
            "_view_count": null,
            "_view_module": "@jupyter-widgets/base",
            "_view_module_version": "1.2.0",
            "_view_name": "LayoutView",
            "align_content": null,
            "align_items": null,
            "align_self": null,
            "border": null,
            "bottom": null,
            "display": null,
            "flex": null,
            "flex_flow": null,
            "grid_area": null,
            "grid_auto_columns": null,
            "grid_auto_flow": null,
            "grid_auto_rows": null,
            "grid_column": null,
            "grid_gap": null,
            "grid_row": null,
            "grid_template_areas": null,
            "grid_template_columns": null,
            "grid_template_rows": null,
            "height": null,
            "justify_content": null,
            "justify_items": null,
            "left": null,
            "margin": null,
            "max_height": null,
            "max_width": null,
            "min_height": null,
            "min_width": null,
            "object_fit": null,
            "object_position": null,
            "order": null,
            "overflow": null,
            "overflow_x": null,
            "overflow_y": null,
            "padding": null,
            "right": null,
            "top": null,
            "visibility": null,
            "width": null
          }
        }
      }
    }
  },
  "cells": [
    {
      "cell_type": "markdown",
      "metadata": {
        "id": "view-in-github",
        "colab_type": "text"
      },
      "source": [
        "<a href=\"https://colab.research.google.com/github/Areliortiz/SIMULACION2/blob/main/frecuentistas_y_bayesianos.ipynb\" target=\"_parent\"><img src=\"https://colab.research.google.com/assets/colab-badge.svg\" alt=\"Open In Colab\"/></a>"
      ]
    },
    {
      "cell_type": "markdown",
      "source": [
        "## FRECUENTISTAS Y BAYESIANOS"
      ],
      "metadata": {
        "id": "FbcZE5QP-6oH"
      }
    },
    {
      "cell_type": "markdown",
      "source": [
        "Frecuentistas: Creen que la probabilidad solo tiene sentido en experimentos\n",
        "repetidos y que mide la frecuencia con la que un evento ocurre.\n",
        "\n",
        "Bayesianos: Creen que la probabilidad refleja nuestro grado de conocimiento o certeza sobre un evento, y se puede aplicar tanto a eventos repetidos como a situaciones únicas."
      ],
      "metadata": {
        "id": "lju8ge-i_Jwk"
      }
    },
    {
      "cell_type": "code",
      "execution_count": 4,
      "metadata": {
        "id": "G5L4nSDe-2yR"
      },
      "outputs": [],
      "source": [
        "#iportar librerias\n",
        "import numpy as np\n",
        "import matplotlib.pyplot as plt"
      ]
    },
    {
      "cell_type": "markdown",
      "source": [
        "# **Ejemplo: Mediciones de flujo de fotones.**\n",
        "\n",
        "Apuntamos un telescopio al cielo y observamos la luz que provienede una sola estrella, tenemos los siguientes datos:\n",
        "\n",
        "$F$: flujo real de fotones de la estrella\n",
        "\n",
        "$N$: numero de mediones\n",
        "\n",
        "$F_i$: flujo observado\n",
        "\n",
        "$e_i$: error de medición"
      ],
      "metadata": {
        "id": "XxdfF6Bm_nUd"
      }
    },
    {
      "cell_type": "code",
      "source": [
        "np.random.seed(2)  # para reproducibilidad\n",
        "e = np.random.normal(30, 3, 50) # Genera un conjunto de 50 números aleatorios siguiendo una distribución normal\n",
        "F = np.random.normal(1000, e) #Genera un conjunto de números aleatorios siguiendo una distribución normal\n"
      ],
      "metadata": {
        "id": "LuJcUO1-_ao5"
      },
      "execution_count": 5,
      "outputs": []
    },
    {
      "cell_type": "markdown",
      "source": [
        "Enfoque frecuentista.\n",
        "\n",
        "Utiliza máxima verosimilitud para estimar parametros. En este caso, la probabilidad condicional de una medición $D_i$ dado un flujo verdadero $F$ se modela como una distribución normal:\n",
        "$P(D_i|F) = \\frac{1}{\\sqrt{2\\pi e_i^2}} \\exp\\left(-\\frac{(F_i - F)^2}{2e_i^2}\\right)$\n",
        "\n",
        "El log-verosimilitud para un conjunto de mediciones $D$ es:\n",
        "\n",
        "$\\log L(D|F) = -\\frac{1}{2} \\sum_{i=1}^N \\left[ \\log(2\\pi e_i^2) + \\frac{(F_i - F)^2}{e_i^2} \\right]$\n",
        "\n",
        "El valor que maximiza la verisimiltud es:\n",
        "\n",
        "$\\hat{F} = \\frac{\\sum w_i F_i}{\\sum w_i}, \\quad w_i = \\frac{1}{e_i^2}$\n",
        "\n",
        "La incertidumbre en $\\hat{F}$ se calcula como:\n",
        "\n",
        "$\\sigma_{\\hat{F}} = \\left(\\sum w_i\\right)^{-1/2}$"
      ],
      "metadata": {
        "id": "t7ScZBzfHCIh"
      }
    },
    {
      "cell_type": "code",
      "source": [
        "# Establecemos pesos inversamente proporcionales a la varianza (frecuentista)\n",
        "w = 1. / e ** 2\n",
        "\n",
        "# Calculamos el valor promedio ponderado de F\n",
        "F_hat = np.sum(w * F) / np.sum(w)\n",
        "\n",
        "# Calculamos la incertidumbre asociada al promedio ponderado\n",
        "sigma_F = np.sqrt(1. / np.sum(w))\n",
        "\n",
        "# Mostramos los resultados\n",
        "print(f\"Frequentista: F̂ = {F_hat:.2f} ± {sigma_F:.2f}\")\n",
        "\n",
        "\n"
      ],
      "metadata": {
        "id": "TpSZMwNGHBtL",
        "outputId": "7848747c-764a-4710-9dab-ae72f28ecde0",
        "colab": {
          "base_uri": "https://localhost:8080/"
        }
      },
      "execution_count": 6,
      "outputs": [
        {
          "output_type": "stream",
          "name": "stdout",
          "text": [
            "Frequentista: F̂ = 998.65 ± 4.11\n"
          ]
        }
      ]
    },
    {
      "cell_type": "markdown",
      "source": [
        "Bayesianismo: Uso de probabilidades.\n",
        "\n",
        "El enfoque bayesiano calcula la distribución posterior de $F$ utilizando el teorema de Bayes:\n",
        "\n",
        "$P(F|D) = \\frac{P(D|F)P(F)}{P(D)}$\n",
        "\n",
        "Donde:\n",
        "\n",
        "$P(F|D)$: Probabilidad posterior(la meta del análisis)\n",
        "\n",
        "$P(D|F)$: Verosimilidad\n",
        "\n",
        "$P(F|D)$: Prior, que en este caso asume el plano ($P$($F$) α 1).\n",
        "\n",
        "\n"
      ],
      "metadata": {
        "id": "2w3TFYNxOm1F"
      }
    },
    {
      "cell_type": "markdown",
      "source": [
        "si fijamos lo anterior P(F) ∝ 1 (a flat prior), tenemos.\n",
        "\n",
        "P(F|D) ∝ L (D|F). El resultado es equivalente al frecuentista en este caso.\n",
        "\n",
        "Divergencia en los resultados\n",
        "Aunque frecuentismo y bayesianismo suelen coincidir en problemas simples, en casos más complejos pueden diferir notablemente, especialmente en:\n",
        "\n",
        "Manejo de parámetros de molestia.\n",
        "Diferencias entre intervalos de confianza (frecuentistas) y regiones creíbles (bayesianas)."
      ],
      "metadata": {
        "id": "kKC3XYUqCySt"
      }
    },
    {
      "cell_type": "markdown",
      "source": [
        "# **Ejemplo: Juego de billar de Bayes**"
      ],
      "metadata": {
        "id": "0UP_-ufgVuss"
      }
    },
    {
      "cell_type": "markdown",
      "source": [
        "\n",
        "- **Contexto**: Alice y Bob compiten para alcanzar seis puntos. Los puntos dependen de un marcador cuya posición, desconocida para ambos, determina el lado ganador. Alice tiene cinco puntos y Bob tres después de ocho lanzamientos. La probabilidad de ganar de Bob depende de este parámetro de molestia.\n",
        "\n",
        "Datos:\n",
        "\n",
        "B = Bob gana\n",
        "\n",
        "D = datos observados, es decir, D = (nA,nB) = (5,3)\n",
        "\n",
        "p = probabilidad desconocida de que una pelota caiga en el lado de Alice\n",
        "\n",
        "\n",
        "- **Frecuentismo**:\n",
        "   - Estima $p$, la probabilidad de que una bola favorezca a Alice, como $( \\hat{p} = \\frac{5}{8}).$\n",
        "   - Calcula la probabilidad de que Bob gane los siguientes tres puntos consecutivos:\n",
        "   $   P(B) = (1 - \\hat{p})^3 = 0.053 \\quad$ (esto es, 18 a 1 en contra de Bob).\n",
        "\n",
        "- **Bayesianismo**:\n",
        "\n",
        "   -Comenzamos aplicando la definición de probabilidad condicional\n",
        "para expandir el término $P(B, p|D):$\n",
        "\n",
        "  $P(B|D) = \\int P(B|p,D) \\cdot P(p|D) \\, dp$\n",
        "\n",
        "Ahora la probabilidad deseada se expresa en términos\n",
        "utilizando la regla de Bayes, la identidad de probabilidad obtendremos lo siguiente.\n",
        "La probabilidad deseada está expresada en términos de tres cantidades que podemos calcular:\n",
        "\n",
        "$P(B|D) = \\frac{\\int P(B|p, D) P(D|p) P(p) \\, dp}{\\int P(D|p) P(p) \\, dp}$\n",
        "\n",
        "Donde:\n",
        "\n",
        "1. $ P(B|p, D)  = (1 - p)^3 $ Probabilidad de que Bob gane los tres lanzamientos restantes.\n",
        "\n",
        "2. $   P(D|p) \\propto p^5 (1 - p)^3$): probabilidad de observar 5 éxitos para Alice y 3 para Bob\n",
        "\n",
        "3. $P(p) \\propto 1$Prior uniforme sobre $p$\n",
        "\n",
        "Juntando todo y simplificando, obtenemos:\n",
        "$P(B|D) = \\frac{\\int_0^1 (1 - p)^3 p^5 \\, dp}{\\int_0^1 (1 - p)^3 p^3 \\, dp}$\n",
        "\n",
        "Usando la libreria spacy:\n",
        "\n",
        "El bayesianismo proporciona una mejor forma de manejar parámetros de molestia mediante la marginalización.\n",
        "\n"
      ],
      "metadata": {
        "id": "_hJit-b_GmD0"
      }
    },
    {
      "cell_type": "code",
      "source": [
        "from scipy.special import beta\n",
        "# Importamos la función `beta` de SciPy, que calcula la función beta especial:\n",
        "\n",
        "\n",
        "P_B_D = beta(7, 6) / beta(4, 6)\n",
        "# Calculamos la probabilidad posterior (P(B|D)) para un modelo bayesiano.\n",
        "# Resultado esperado: 0.091\n",
        "# Este valor indica que los odds (razón de probabilidades) son de 10 a 1 contra Bob.\n",
        "\n",
        "P_B_D\n",
        "# Muestra el valor calculado de P(B|D)\n"
      ],
      "metadata": {
        "colab": {
          "base_uri": "https://localhost:8080/"
        },
        "id": "Bb2aQdSsB8yV",
        "outputId": "5b7a0100-9f38-41e7-ef76-b83f41c0966c"
      },
      "execution_count": 7,
      "outputs": [
        {
          "output_type": "execute_result",
          "data": {
            "text/plain": [
              "0.09090909090909091"
            ]
          },
          "metadata": {},
          "execution_count": 7
        }
      ]
    },
    {
      "cell_type": "markdown",
      "source": [
        "El enfoque bayesiano produce una probabilidad más precisa al considerar la incertidumbre en $p$. El frecuentismo subestima esta variabilidad.\n"
      ],
      "metadata": {
        "id": "q0Rbe2sDTl2A"
      }
    },
    {
      "cell_type": "markdown",
      "source": [
        "#### Intervalos de confianza vs. regiones creíbles\n",
        "- **Definiciones:**\n",
        "   - **Frecuentista:** La probabilidad se refiere a la proporción de intervalos generados que contienen el valor verdadero en experimentos repetidos.\n",
        "   - **Bayesiano:** La probabilidad se refiere a la certeza de que el parámetro desconocido está dentro de un intervalo dado los datos observados.\n",
        "\n",
        "   Esencialmente, tenemos datos \\( D \\) provenientes del modelo:\n",
        "\n",
        "$\n",
        "P(x|θ) =\n",
        "\\begin{cases}\n",
        "\\exp(θ - x), & x > θ \\\\\n",
        "0, & x < θ\n",
        "\\end{cases}\n",
        "$\n",
        "\n",
        "\n",
        "- **Problema del modelo truncado exponencial:**\n",
        "   - Se estima θ , el tiempo antes de que ocurra un fallo, a partir de datos de fallos observados \\( D = \\{10, 12, 15\\} \\).\n",
        "   - **Frecuentismo:** Calcula un intervalo de confianza $CI$ usando la media muestral y su desviación estándar.\n",
        "   \n",
        "   Ejemplo:\n",
        "\n",
        "     $ CI(\\theta) = (10.2, 12.5)$\n",
        "    \n",
        "     Sin embargo, este intervalo contradice el límite $θ \\leq \\min(D) = 10.$\n",
        "   - **Bayesianismo:** Utiliza una prior plana y encuentra la región creíble (CR):\n",
        "\n",
        "     $     CR(\\theta) = (9.0, 10.0)$\n",
        "     Este intervalo respeta el límite lógico basado en los datos.\n",
        "\n",
        "Conclusión.\n",
        "El IC y el CR, represntan diferentes valores.\n",
        "Usando simulaciones de Monte Carlo, es posible confirmar que ambos resultados anteriores responden correctamente.\n",
        "\n",
        "El CR bayesiano muestra el valor de θ en sí (la probabilidad de que el parámetro esté en el CRfijo).\n",
        "\n",
        "El IC frecuentista muestra el procedimiento utilizado para construir el IC (la probabilidad de que cualquier IC potencial contenga el parámetro fijo).\n",
        "\n",
        "\n",
        "El enfoque bayesiano es más intuitivo y consistente en problemas donde los datos están restringidos o hay parámetros desconocidos. Sin embargo, ambos enfoques tienen sus aplicaciones según el problema."
      ],
      "metadata": {
        "id": "TZ1hTsTBT-ZA"
      }
    },
    {
      "cell_type": "markdown",
      "source": [
        "# **Aplicación: Un modelo lineal simple**\n"
      ],
      "metadata": {
        "id": "KM6d5-UgV4kO"
      }
    },
    {
      "cell_type": "markdown",
      "source": [
        "Se utiliza un modelo lineal con tres parámetros: intersección, pendiente y dispersión.\n",
        "Los datos se generan aleatoriamente para ajustar el modelo utilizando tanto enfoques frecuentistas como bayesianos.\n",
        "\n",
        "Para los datos $ D = \\{x_i, y_i\\} $, el modelo es:\n",
        "\n",
        "$\\hat{y}(x_i|\\alpha, \\beta) = \\alpha + \\beta x_i,$\n",
        "\n",
        "y la verosimilitud es el producto de la distribución Gaussiana para cada punto:\n",
        "\n",
        "$\n",
        "\\mathcal{L}(D|\\alpha, \\beta, \\sigma) = (2\\pi\\sigma^2)^{-N/2} \\prod_{i=1}^N \\exp\\left[-\\frac{[y_i - \\hat{y}(x_i|\\alpha, \\beta)]^2}{2\\sigma^2}\\right].$"
      ],
      "metadata": {
        "id": "Me0UvcOHcnTw"
      }
    },
    {
      "cell_type": "code",
      "source": [
        "import numpy as np\n",
        "# Importa la biblioteca NumPy\n",
        "np.random.seed(42)\n",
        "# Fija una semilla para el generador de números aleatorios.\n",
        "\n",
        "\n",
        "theta_true = (25, 0.5)\n",
        "# Define los valores \"verdaderos\" de los parámetros del modelo lineal:\n",
        "\n",
        "\n",
        "xdata = 100 * np.random.random(20)\n",
        "# Genera 20 valores aleatorios uniformemente distribuidos en el rango [0, 100].\n",
        "\n",
        "\n",
        "ydata = theta_true[0] + theta_true[1] * xdata\n",
        "# Calcula los valores correspondientes de y (dependientes) según el modelo lineal:\n",
        "\n",
        "ydata = np.random.normal(ydata, 10)\n",
        "# Agrega ruido aleatorio (error) a los valores de y\n",
        "\n",
        "\n",
        "\n"
      ],
      "metadata": {
        "id": "GmV2CQuscm-3"
      },
      "execution_count": 8,
      "outputs": []
    },
    {
      "cell_type": "markdown",
      "source": [
        "Frecuentista:\n",
        "El intervalo de confianza alrededor de este valor es una elipse en el espacio de parámetros definida por la siguiente matriz:\n",
        "\n",
        "$\n",
        "\\Sigma_{\\hat{\\theta}} \\equiv\n",
        "\\begin{bmatrix}\n",
        "\\sigma_\\alpha^2 & \\sigma_{\\alpha\\beta} \\\\\n",
        "\\sigma_{\\alpha\\beta} & \\sigma_\\beta^2\n",
        "\\end{bmatrix}\n",
        "= \\sigma^2 (M^T M)^{-1}.\n",
        "$\n",
        "\n",
        "Aquí, σ es nuestro término de error desconocido\n",
        "$Σ _{\\hat{\\theta}} $ representan la incertidumbre correlacionada entre las estimaciones."
      ],
      "metadata": {
        "id": "Bk21K4odhoI4"
      }
    },
    {
      "cell_type": "code",
      "source": [
        "#frecuentista\n",
        "X = np.vstack([np.ones_like(xdata), xdata]).T\n",
        "theta_hat = np.linalg.solve(np.dot(X.T, X), np.dot(X.T, ydata))\n",
        "y_hat = np.dot(X, theta_hat)\n",
        "sigma_hat = np.std(ydata - y_hat)\n",
        "Sigma = sigma_hat**2 * np.linalg.inv(np.dot(X.T, X))\n"
      ],
      "metadata": {
        "id": "0PmTeH9rhERD"
      },
      "execution_count": 9,
      "outputs": []
    },
    {
      "cell_type": "code",
      "source": [
        "import statsmodels.api as sm\n",
        "X = sm.add_constant(xdata)\n",
        "result = sm.OLS(ydata, X).fit()\n",
        "print(result.summary2())\n"
      ],
      "metadata": {
        "colab": {
          "base_uri": "https://localhost:8080/"
        },
        "id": "x4xGXaoIhnl5",
        "outputId": "41534084-8cf7-44b5-d337-9d6227d00c24"
      },
      "execution_count": 10,
      "outputs": [
        {
          "output_type": "stream",
          "name": "stdout",
          "text": [
            "                 Results: Ordinary least squares\n",
            "=================================================================\n",
            "Model:              OLS              Adj. R-squared:     0.683   \n",
            "Dependent Variable: y                AIC:                147.7737\n",
            "Date:               2024-12-09 05:53 BIC:                149.7651\n",
            "No. Observations:   20               Log-Likelihood:     -71.887 \n",
            "Df Model:           1                F-statistic:        41.97   \n",
            "Df Residuals:       18               Prob (F-statistic): 4.30e-06\n",
            "R-squared:          0.700            Scale:              86.157  \n",
            "-------------------------------------------------------------------\n",
            "            Coef.    Std.Err.     t      P>|t|     [0.025    0.975]\n",
            "-------------------------------------------------------------------\n",
            "const      24.6361     3.7871   6.5053   0.0000   16.6797   32.5924\n",
            "x1          0.4483     0.0692   6.4782   0.0000    0.3029    0.5937\n",
            "-----------------------------------------------------------------\n",
            "Omnibus:              1.996        Durbin-Watson:           2.758\n",
            "Prob(Omnibus):        0.369        Jarque-Bera (JB):        1.634\n",
            "Skew:                 0.651        Prob(JB):                0.442\n",
            "Kurtosis:             2.486        Condition No.:           100  \n",
            "=================================================================\n",
            "Notes:\n",
            "[1] Standard Errors assume that the covariance matrix of the\n",
            "errors is correctly specified.\n"
          ]
        }
      ]
    },
    {
      "cell_type": "markdown",
      "source": [
        "Podemos demostrar que:\n",
        "$\n",
        "P(\\sigma) \\propto \\frac{1}{\\sigma},\n",
        "$\n",
        "\n",
        "lo cual es comúnmente conocido como el **Prior de Jeffreys**  y es equivalente a un prior plano en $ \\log \\sigma $. Combinando todo esto,obtenemos para nuestro problema de regresión lineal:\n",
        "\n",
        "$\n",
        "P(\\alpha, \\beta, \\sigma) \\propto \\frac{1}{\\sigma} (1 + \\beta^2)^{-3/2}.\n",
        "$\n",
        "\n",
        "Ahora se evalua numéricamente la posterior mediante MCMC.\n"
      ],
      "metadata": {
        "id": "YfQVpy91iwmC"
      }
    },
    {
      "source": [
        "!pip install emcee"
      ],
      "cell_type": "code",
      "metadata": {
        "colab": {
          "base_uri": "https://localhost:8080/"
        },
        "id": "FlX8WvD9jdiH",
        "outputId": "52ae5a6f-f8cc-471e-b6f7-3ad47fac92ed"
      },
      "execution_count": 11,
      "outputs": [
        {
          "output_type": "stream",
          "name": "stdout",
          "text": [
            "Requirement already satisfied: emcee in /usr/local/lib/python3.10/dist-packages (3.1.6)\n",
            "Requirement already satisfied: numpy in /usr/local/lib/python3.10/dist-packages (from emcee) (1.26.4)\n"
          ]
        }
      ]
    },
    {
      "cell_type": "code",
      "source": [
        "import emcee\n",
        "def log_prior(theta):\n",
        "    alpha, beta, sigma = theta\n",
        "    if sigma < 0:\n",
        "        return -np.inf  # log(0)\n",
        "    return -1.5 * np.log(1 + beta**2) - np.log(sigma)\n",
        "\n",
        "def log_like(theta, x, y):\n",
        "    alpha, beta, sigma = theta\n",
        "    y_model = alpha + beta * x\n",
        "    return -0.5 * np.sum(np.log(2 * np.pi * sigma**2) + (y - y_model)**2 / sigma**2)\n",
        "\n",
        "def log_posterior(theta, x, y):\n",
        "    return log_prior(theta) + log_like(theta, x, y)\n"
      ],
      "metadata": {
        "id": "S5TyWX0XjVNi"
      },
      "execution_count": 12,
      "outputs": []
    },
    {
      "cell_type": "markdown",
      "source": [
        "A continuación, configuramos el cálculo. emcee combina varios “caminantes”\n",
        "que interactúan, cada uno de los cuales genera su propia cadena\n",
        "de Markov. También especificaremos un período de rodaje para permitir que las cadenas se estabilicen antes de dibujar nuestros trazos finales:"
      ],
      "metadata": {
        "id": "IsT4DkbnjUkf"
      }
    },
    {
      "cell_type": "code",
      "source": [
        "ndim = 3\n",
        "nwalkers = 50\n",
        "nburn = 1000\n",
        "nsteps = 2000\n",
        "starting_guesses = np.random.rand(nwalkers, ndim)\n",
        "sampler = emcee.EnsembleSampler(nwalkers, ndim, log_posterior, args=[xdata, ydata])\n",
        "sampler.run_mcmc(starting_guesses, nsteps)\n",
        "trace = sampler.chain[:, nburn:, :].reshape(-1, ndim).T\n"
      ],
      "metadata": {
        "id": "OckFDqTKkFD5"
      },
      "execution_count": 13,
      "outputs": []
    },
    {
      "cell_type": "markdown",
      "source": [
        "Ahora llamamos al sampler y extraemos el rastro:"
      ],
      "metadata": {
        "id": "bjAPBzm-kP08"
      }
    },
    {
      "cell_type": "code",
      "source": [
        "sampler = emcee.EnsembleSampler(nwalkers, ndim,\n",
        "log_posterior,\n",
        "args=[xdata,ydata])\n",
        "sampler.run_mcmc(starting_guesses, nsteps)\n",
        "# chain is of shape (nwalkers, nsteps, ndim):\n",
        "# discard burn-in points and reshape:\n",
        "trace = sampler.chain[:, nburn:, :]\n",
        "trace = trace.reshape(-1, ndim).T"
      ],
      "metadata": {
        "id": "MIVifqs7kQz6"
      },
      "execution_count": 14,
      "outputs": []
    },
    {
      "cell_type": "markdown",
      "source": [
        "# **Con PyMC:**\n",
        "\n",
        "Modelo con decoradores:\n",
        "Para este ejercicio no obtuvimos resultado ya que el codigo no se logro ejecutar"
      ],
      "metadata": {
        "id": "Qb3yRRMTkk2F"
      }
    },
    {
      "cell_type": "code",
      "source": [
        "import pymc as pm\n",
        "import numpy as np\n",
        "\n",
        "# Generar datos simulados\n",
        "np.random.seed(42)\n",
        "xdata = 100 * np.random.random(20)\n",
        "true_alpha, true_beta = 25, 0.5\n",
        "ydata = true_alpha + true_beta * xdata + np.random.normal(0, 10, size=len(xdata))\n",
        "\n",
        "# Construir el modelo en PyMC3\n",
        "with pm.Model() as model:\n",
        "    # Priors para los parámetros (ajustados)\n",
        "    alpha = pm.Normal(\"alpha\", mu=25, sigma=20)  # Prior centrado cerca del valor verdadero\n",
        "    beta = pm.Normal(\"beta\", mu=0.5, sigma=1)   # Prior más estrecho\n",
        "    sigma = pm.HalfNormal(\"sigma\", sigma=10)    # Prior para sigma\n",
        "\n",
        "    # Modelo determinístico para y\n",
        "    y_model = alpha + beta * xdata\n",
        "\n",
        "    # Likelihood (verosimilitud) para los datos observados\n",
        "    y = pm.Normal(\"y\", mu=y_model, sigma=sigma, observed=ydata)\n",
        "\n",
        "    # Revisar los valores iniciales\n",
        "    print(\"Puntos iniciales del modelo:\", model.initial_point)\n",
        "\n",
        "    # Configuración del muestreador MCMC\n",
        "    trace = pm.sample(1000, tune=500, cores=1, return_inferencedata=True)\n",
        "\n",
        "# Resumen de los resultados\n",
        "print(pm.summary(trace))\n",
        "#se modifico el codigo original ya que presentaba errores"
      ],
      "metadata": {
        "colab": {
          "base_uri": "https://localhost:8080/",
          "height": 223,
          "referenced_widgets": [
            "f4d19a02ad0f440d868e4bd16d1d67de",
            "3f153481264b4fc3811ddef2b349d09d",
            "0f33d499eed84311a6333ece3e81446f",
            "63d8cb2af5734ca88a0c9884067bcac6"
          ]
        },
        "id": "0thKmgFwklte",
        "outputId": "7bd8268d-79f1-4af7-8614-f3153cf4e89a"
      },
      "execution_count": 15,
      "outputs": [
        {
          "output_type": "stream",
          "name": "stdout",
          "text": [
            "Puntos iniciales del modelo: <bound method Model.initial_point of <pymc.model.core.Model object at 0x7c7b5ee273d0>>\n"
          ]
        },
        {
          "output_type": "display_data",
          "data": {
            "text/plain": [
              "Output()"
            ],
            "application/vnd.jupyter.widget-view+json": {
              "version_major": 2,
              "version_minor": 0,
              "model_id": "f4d19a02ad0f440d868e4bd16d1d67de"
            }
          },
          "metadata": {}
        },
        {
          "output_type": "display_data",
          "data": {
            "text/plain": [],
            "text/html": [
              "<pre style=\"white-space:pre;overflow-x:auto;line-height:normal;font-family:Menlo,'DejaVu Sans Mono',consolas,'Courier New',monospace\"></pre>\n"
            ]
          },
          "metadata": {}
        },
        {
          "output_type": "display_data",
          "data": {
            "text/plain": [
              "Output()"
            ],
            "application/vnd.jupyter.widget-view+json": {
              "version_major": 2,
              "version_minor": 0,
              "model_id": "0f33d499eed84311a6333ece3e81446f"
            }
          },
          "metadata": {}
        },
        {
          "output_type": "display_data",
          "data": {
            "text/plain": [],
            "text/html": [
              "<pre style=\"white-space:pre;overflow-x:auto;line-height:normal;font-family:Menlo,'DejaVu Sans Mono',consolas,'Courier New',monospace\"></pre>\n"
            ]
          },
          "metadata": {}
        },
        {
          "output_type": "stream",
          "name": "stdout",
          "text": [
            "         mean     sd  hdi_3%  hdi_97%  mcse_mean  mcse_sd  ess_bulk  ess_tail  \\\n",
            "alpha  24.596  3.830  17.413   31.541      0.129    0.092     884.0    1042.0   \n",
            "beta    0.449  0.071   0.313    0.583      0.002    0.002     856.0     939.0   \n",
            "sigma   9.569  1.619   6.882   12.564      0.047    0.034    1193.0    1335.0   \n",
            "\n",
            "       r_hat  \n",
            "alpha    1.0  \n",
            "beta     1.0  \n",
            "sigma    1.0  \n"
          ]
        }
      ]
    },
    {
      "cell_type": "code",
      "source": [
        "import pymc as pm\n",
        "import numpy as np\n",
        "\n",
        "# Supongamos que tienes datos de ejemplo\n",
        "x = np.random.normal(0, 1, 100)\n",
        "y = 2.5 * x + np.random.normal(0, 0.5, 100)\n",
        "\n",
        "# Modelo Bayesiano\n",
        "with pm.Model() as model:\n",
        "    # Priors\n",
        "    alpha = pm.Normal(\"alpha\", mu=0, sigma=10)\n",
        "    beta = pm.Normal(\"beta\", mu=0, sigma=10)\n",
        "    sigma = pm.HalfNormal(\"sigma\", sigma=1)\n",
        "\n",
        "    # Likelihood (observed data)\n",
        "    mu = alpha + beta * x\n",
        "    y_obs = pm.Normal(\"y_obs\", mu=mu, sigma=sigma, observed=y)\n",
        "\n",
        "    # MCMC sampling\n",
        "    trace = pm.sample(draws=500, tune=500, return_inferencedata=True)\n",
        "\n",
        "# Acceder a las muestras\n",
        "alpha_samples = trace.posterior[\"alpha\"].values.flatten()\n",
        "beta_samples = trace.posterior[\"beta\"].values.flatten()\n",
        "sigma_samples = trace.posterior[\"sigma\"].values.flatten()\n",
        "\n",
        "# Resultados\n",
        "print(f\"Media de alpha: {np.mean(alpha_samples)}\")\n",
        "print(f\"Media de beta: {np.mean(beta_samples)}\")\n",
        "print(f\"Media de sigma: {np.mean(sigma_samples)}\")\n",
        "\n"
      ],
      "metadata": {
        "colab": {
          "base_uri": "https://localhost:8080/",
          "height": 102,
          "referenced_widgets": [
            "e912cd35237946f1981799c53831854a",
            "0ab5aa1287044cba9b13688b68d5cd6c",
            "c85311b40b044a74981746b3cf06a2e5",
            "c6129f482e9a4279bb6088ac2e1e7fd6"
          ]
        },
        "id": "f2ZeqKq6mpFN",
        "outputId": "995bab17-18bc-41a8-a54b-87aaecc2dff7"
      },
      "execution_count": 17,
      "outputs": [
        {
          "output_type": "display_data",
          "data": {
            "text/plain": [
              "Output()"
            ],
            "application/vnd.jupyter.widget-view+json": {
              "version_major": 2,
              "version_minor": 0,
              "model_id": "e912cd35237946f1981799c53831854a"
            }
          },
          "metadata": {}
        },
        {
          "output_type": "display_data",
          "data": {
            "text/plain": [],
            "text/html": [
              "<pre style=\"white-space:pre;overflow-x:auto;line-height:normal;font-family:Menlo,'DejaVu Sans Mono',consolas,'Courier New',monospace\"></pre>\n"
            ]
          },
          "metadata": {}
        },
        {
          "output_type": "display_data",
          "data": {
            "text/plain": [
              "Output()"
            ],
            "application/vnd.jupyter.widget-view+json": {
              "version_major": 2,
              "version_minor": 0,
              "model_id": "c85311b40b044a74981746b3cf06a2e5"
            }
          },
          "metadata": {}
        },
        {
          "output_type": "display_data",
          "data": {
            "text/plain": [],
            "text/html": [
              "<pre style=\"white-space:pre;overflow-x:auto;line-height:normal;font-family:Menlo,'DejaVu Sans Mono',consolas,'Courier New',monospace\"></pre>\n"
            ]
          },
          "metadata": {}
        },
        {
          "output_type": "stream",
          "name": "stdout",
          "text": [
            "Media de alpha: 0.054467009692447506\n",
            "Media de beta: 2.5014396757725144\n",
            "Media de sigma: 0.5037394233612695\n"
          ]
        }
      ]
    },
    {
      "cell_type": "code",
      "source": [
        "from cmdstanpy import cmdstan_path\n",
        "print(f\"CmdStan está instalado en: {cmdstan_path()}\")\n"
      ],
      "metadata": {
        "id": "xQGQy61sEaJb",
        "outputId": "55aba666-119d-421f-ef8f-815034730dc7",
        "colab": {
          "base_uri": "https://localhost:8080/"
        }
      },
      "execution_count": 20,
      "outputs": [
        {
          "output_type": "stream",
          "name": "stdout",
          "text": [
            "CmdStan está instalado en: /root/.cmdstan/cmdstan-2.35.0\n"
          ]
        }
      ]
    },
    {
      "cell_type": "code",
      "source": [
        "import cmdstanpy\n",
        "import numpy as np\n",
        "\n",
        "# Datos de ejemplo\n",
        "xdata = np.random.normal(0, 1, 100)\n",
        "ydata = 2.5 * xdata + np.random.normal(0, 0.5, 100)\n",
        "\n",
        "# Código del modelo en Stan\n",
        "model_code = \"\"\"\n",
        "data {\n",
        "  int<lower=0> N;  // número de puntos\n",
        "  real x[N];       // valores x\n",
        "  real y[N];       // valores y\n",
        "}\n",
        "parameters {\n",
        "  real alpha_perp;\n",
        "  real<lower=-pi()/2, upper=pi()/2> theta;\n",
        "  real log_sigma;\n",
        "}\n",
        "transformed parameters {\n",
        "  real alpha;\n",
        "  real beta;\n",
        "  real sigma;\n",
        "  real ymodel[N];\n",
        "  alpha = alpha_perp / cos(theta);\n",
        "  beta = sin(theta);\n",
        "  sigma = exp(log_sigma);\n",
        "  for (j in 1:N) {\n",
        "    ymodel[j] = alpha + beta * x[j];\n",
        "  }\n",
        "}\n",
        "model {\n",
        "  y ~ normal(ymodel, sigma);\n",
        "}\n",
        "\"\"\"\n",
        "\n",
        "# Guardar el modelo Stan en un archivo\n",
        "with open(\"model.stan\", \"w\") as f:\n",
        "    f.write(model_code)\n",
        "\n",
        "# Compilar el modelo\n",
        "stan_model = cmdstanpy.CmdStanModel(stan_file=\"model.stan\")\n",
        "\n",
        "# Configuración de los datos\n",
        "data = {\n",
        "    \"N\": len(xdata),\n",
        "    \"x\": xdata,\n",
        "    \"y\": ydata\n",
        "}\n",
        "\n",
        "# Ajuste del modelo\n",
        "fit = stan_model.sample(data=data, chains=4, iter_sampling=5000, iter_warmup=1000)\n",
        "\n",
        "# Extraer muestras\n",
        "posterior = fit.draws_pd()\n",
        "\n",
        "# Acceder a las muestras específicas\n",
        "alpha_samples = posterior[\"alpha\"]\n",
        "beta_samples = posterior[\"beta\"]\n",
        "sigma_samples = posterior[\"sigma\"]\n",
        "\n",
        "# Mostrar resultados\n",
        "print(f\"Media de alpha: {alpha_samples.mean()}\")\n",
        "print(f\"Media de beta: {beta_samples.mean()}\")\n",
        "print(f\"Media de sigma: {sigma_samples.mean()}\")\n"
      ],
      "metadata": {
        "id": "Ps2hzkShAbCj",
        "outputId": "17d2bb1f-1c9a-4666-a88e-5227b11a5176",
        "colab": {
          "base_uri": "https://localhost:8080/",
          "height": 599
        }
      },
      "execution_count": 21,
      "outputs": [
        {
          "output_type": "error",
          "ename": "ValueError",
          "evalue": "Failed to get source info for Stan model '/content/model.stan'. Console:\nSyntax error in '/content/model.stan', line 4, column 9 to column 10, parsing error:\n   -------------------------------------------------\n     2:  data {\n     3:    int<lower=0> N;  // número de puntos\n     4:    real x[N];       // valores x\n                  ^\n     5:    real y[N];       // valores y\n     6:  }\n   -------------------------------------------------\n\n\";\" expected after variable declaration.\nIt looks like you are trying to use the old array syntax.\nPlease use the new syntax:\narray[N] real x;\n",
          "traceback": [
            "\u001b[0;31m---------------------------------------------------------------------------\u001b[0m",
            "\u001b[0;31mValueError\u001b[0m                                Traceback (most recent call last)",
            "\u001b[0;32m<ipython-input-21-cddfb5582a2b>\u001b[0m in \u001b[0;36m<cell line: 42>\u001b[0;34m()\u001b[0m\n\u001b[1;32m     40\u001b[0m \u001b[0;34m\u001b[0m\u001b[0m\n\u001b[1;32m     41\u001b[0m \u001b[0;31m# Compilar el modelo\u001b[0m\u001b[0;34m\u001b[0m\u001b[0;34m\u001b[0m\u001b[0m\n\u001b[0;32m---> 42\u001b[0;31m \u001b[0mstan_model\u001b[0m \u001b[0;34m=\u001b[0m \u001b[0mcmdstanpy\u001b[0m\u001b[0;34m.\u001b[0m\u001b[0mCmdStanModel\u001b[0m\u001b[0;34m(\u001b[0m\u001b[0mstan_file\u001b[0m\u001b[0;34m=\u001b[0m\u001b[0;34m\"model.stan\"\u001b[0m\u001b[0;34m)\u001b[0m\u001b[0;34m\u001b[0m\u001b[0;34m\u001b[0m\u001b[0m\n\u001b[0m\u001b[1;32m     43\u001b[0m \u001b[0;34m\u001b[0m\u001b[0m\n\u001b[1;32m     44\u001b[0m \u001b[0;31m# Configuración de los datos\u001b[0m\u001b[0;34m\u001b[0m\u001b[0;34m\u001b[0m\u001b[0m\n",
            "\u001b[0;32m/usr/local/lib/python3.10/dist-packages/cmdstanpy/model.py\u001b[0m in \u001b[0;36m__init__\u001b[0;34m(self, model_name, stan_file, exe_file, force_compile, stanc_options, cpp_options, user_header, compile)\u001b[0m\n\u001b[1;32m    210\u001b[0m             ):  # unknown end of version range\n\u001b[1;32m    211\u001b[0m                 \u001b[0;32mtry\u001b[0m\u001b[0;34m:\u001b[0m\u001b[0;34m\u001b[0m\u001b[0;34m\u001b[0m\u001b[0m\n\u001b[0;32m--> 212\u001b[0;31m                     \u001b[0mmodel_info\u001b[0m \u001b[0;34m=\u001b[0m \u001b[0mself\u001b[0m\u001b[0;34m.\u001b[0m\u001b[0msrc_info\u001b[0m\u001b[0;34m(\u001b[0m\u001b[0;34m)\u001b[0m\u001b[0;34m\u001b[0m\u001b[0;34m\u001b[0m\u001b[0m\n\u001b[0m\u001b[1;32m    213\u001b[0m                     \u001b[0;32mif\u001b[0m \u001b[0;34m'parameters'\u001b[0m \u001b[0;32min\u001b[0m \u001b[0mmodel_info\u001b[0m\u001b[0;34m:\u001b[0m\u001b[0;34m\u001b[0m\u001b[0;34m\u001b[0m\u001b[0m\n\u001b[1;32m    214\u001b[0m                         \u001b[0mself\u001b[0m\u001b[0;34m.\u001b[0m\u001b[0m_fixed_param\u001b[0m \u001b[0;34m|=\u001b[0m \u001b[0mlen\u001b[0m\u001b[0;34m(\u001b[0m\u001b[0mmodel_info\u001b[0m\u001b[0;34m[\u001b[0m\u001b[0;34m'parameters'\u001b[0m\u001b[0;34m]\u001b[0m\u001b[0;34m)\u001b[0m \u001b[0;34m==\u001b[0m \u001b[0;36m0\u001b[0m\u001b[0;34m\u001b[0m\u001b[0;34m\u001b[0m\u001b[0m\n",
            "\u001b[0;32m/usr/local/lib/python3.10/dist-packages/cmdstanpy/model.py\u001b[0m in \u001b[0;36msrc_info\u001b[0;34m(self)\u001b[0m\n\u001b[1;32m    316\u001b[0m         \u001b[0;32mif\u001b[0m \u001b[0mself\u001b[0m\u001b[0;34m.\u001b[0m\u001b[0mstan_file\u001b[0m \u001b[0;32mis\u001b[0m \u001b[0;32mNone\u001b[0m \u001b[0;32mor\u001b[0m \u001b[0mcmdstan_version_before\u001b[0m\u001b[0;34m(\u001b[0m\u001b[0;36m2\u001b[0m\u001b[0;34m,\u001b[0m \u001b[0;36m27\u001b[0m\u001b[0;34m)\u001b[0m\u001b[0;34m:\u001b[0m\u001b[0;34m\u001b[0m\u001b[0;34m\u001b[0m\u001b[0m\n\u001b[1;32m    317\u001b[0m             \u001b[0;32mreturn\u001b[0m \u001b[0;34m{\u001b[0m\u001b[0;34m}\u001b[0m\u001b[0;34m\u001b[0m\u001b[0;34m\u001b[0m\u001b[0m\n\u001b[0;32m--> 318\u001b[0;31m         \u001b[0;32mreturn\u001b[0m \u001b[0mcompilation\u001b[0m\u001b[0;34m.\u001b[0m\u001b[0msrc_info\u001b[0m\u001b[0;34m(\u001b[0m\u001b[0mstr\u001b[0m\u001b[0;34m(\u001b[0m\u001b[0mself\u001b[0m\u001b[0;34m.\u001b[0m\u001b[0mstan_file\u001b[0m\u001b[0;34m)\u001b[0m\u001b[0;34m,\u001b[0m \u001b[0mself\u001b[0m\u001b[0;34m.\u001b[0m\u001b[0m_compiler_options\u001b[0m\u001b[0;34m)\u001b[0m\u001b[0;34m\u001b[0m\u001b[0;34m\u001b[0m\u001b[0m\n\u001b[0m\u001b[1;32m    319\u001b[0m \u001b[0;34m\u001b[0m\u001b[0m\n\u001b[1;32m    320\u001b[0m     \u001b[0;31m# TODO(2.0) remove\u001b[0m\u001b[0;34m\u001b[0m\u001b[0;34m\u001b[0m\u001b[0m\n",
            "\u001b[0;32m/usr/local/lib/python3.10/dist-packages/cmdstanpy/compilation.py\u001b[0m in \u001b[0;36msrc_info\u001b[0;34m(stan_file, compiler_options)\u001b[0m\n\u001b[1;32m    359\u001b[0m     \u001b[0mproc\u001b[0m \u001b[0;34m=\u001b[0m \u001b[0msubprocess\u001b[0m\u001b[0;34m.\u001b[0m\u001b[0mrun\u001b[0m\u001b[0;34m(\u001b[0m\u001b[0mcmd\u001b[0m\u001b[0;34m,\u001b[0m \u001b[0mcapture_output\u001b[0m\u001b[0;34m=\u001b[0m\u001b[0;32mTrue\u001b[0m\u001b[0;34m,\u001b[0m \u001b[0mtext\u001b[0m\u001b[0;34m=\u001b[0m\u001b[0;32mTrue\u001b[0m\u001b[0;34m,\u001b[0m \u001b[0mcheck\u001b[0m\u001b[0;34m=\u001b[0m\u001b[0;32mFalse\u001b[0m\u001b[0;34m)\u001b[0m\u001b[0;34m\u001b[0m\u001b[0;34m\u001b[0m\u001b[0m\n\u001b[1;32m    360\u001b[0m     \u001b[0;32mif\u001b[0m \u001b[0mproc\u001b[0m\u001b[0;34m.\u001b[0m\u001b[0mreturncode\u001b[0m\u001b[0;34m:\u001b[0m\u001b[0;34m\u001b[0m\u001b[0;34m\u001b[0m\u001b[0m\n\u001b[0;32m--> 361\u001b[0;31m         raise ValueError(\n\u001b[0m\u001b[1;32m    362\u001b[0m             \u001b[0;34mf\"Failed to get source info for Stan model \"\u001b[0m\u001b[0;34m\u001b[0m\u001b[0;34m\u001b[0m\u001b[0m\n\u001b[1;32m    363\u001b[0m             \u001b[0;34mf\"'{stan_file}'. Console:\\n{proc.stderr}\"\u001b[0m\u001b[0;34m\u001b[0m\u001b[0;34m\u001b[0m\u001b[0m\n",
            "\u001b[0;31mValueError\u001b[0m: Failed to get source info for Stan model '/content/model.stan'. Console:\nSyntax error in '/content/model.stan', line 4, column 9 to column 10, parsing error:\n   -------------------------------------------------\n     2:  data {\n     3:    int<lower=0> N;  // número de puntos\n     4:    real x[N];       // valores x\n                  ^\n     5:    real y[N];       // valores y\n     6:  }\n   -------------------------------------------------\n\n\";\" expected after variable declaration.\nIt looks like you are trying to use the old array syntax.\nPlease use the new syntax:\narray[N] real x;\n"
          ]
        }
      ]
    },
    {
      "cell_type": "markdown",
      "source": [
        "### De lo anterior podemos concluir lo siguiente\n",
        "El ajuste de un modelo lineal simple utilizando enfoques frecuentistas y bayesianos permite comparar cómo cada paradigma trata la incertidumbre y los datos. En este caso:\n",
        "\n",
        "1. **Frecuentismo:**\n",
        "   - La estimación de los parámetros α,Β y Γ se realiza a través de máxima verosimilitud y álgebra lineal.\n",
        "   - Se calculan intervalos de confianza basados en supuestos estrictos sobre la varianza y los residuos.\n",
        "   - Los intervalos son más estrechos pero menos flexibles, ya que dependen de un enfoque puntual para los parámetros.\n",
        "\n",
        "2. **Bayesianismo:**\n",
        "   - El ajuste incorpora la incertidumbre a través de priors no informativos (como el Prior de Jeffreys) y la verosimilitud.\n",
        "   - Métodos como MCMC (Markov Chain Monte Carlo) permiten estimar distribuciones completas para los parámetros en lugar de un único punto.\n",
        "   - Los resultados incluyen intervalos creíbles, que representan directamente la probabilidad de que los parámetros se encuentren dentro de esos rangos, dado el modelo y los datos.\n",
        "\n",
        "3. **Herramientas utilizadas:**\n",
        "   - Los paquetes `emcee`, `PyMC`, y `PyStan` se implementaron para realizar ajustes bayesianos. Pero desafortunadamnete tuvimos problemas con el codigo y no se ejecuto\n",
        "\n",
        "4. **Diferencias clave:**\n",
        "   - Los enfoques frecuentistas tienden a ser más rápidos y directos, pero dependen de supuestos estrictos.\n",
        "   - Los enfoques bayesianos, aunque computacionalmente más costosos, ofrecen una representación más rica de la incertidumbre.\n",
        "\n"
      ],
      "metadata": {
        "id": "QsYtxw1bMiGU"
      }
    },
    {
      "cell_type": "markdown",
      "source": [
        "# **Conclusión **\n",
        "\n",
        "La comparación entre frecuentismo y bayesianismo muestra que ambos enfoques tienen fortalezas y limitaciones dependiendo del contexto del problema. Aunque los métodos frecuentistas son más rápidos y ampliamente utilizados, los enfoques bayesianos ofrecen una mayor flexibilidad al integrar incertidumbres y conocimientos previos en el análisis.\n",
        "\n",
        "En problemas simples, ambos enfoques pueden producir resultados similares. Sin embargo, en problemas complejos o con datos limitados, el enfoque bayesiano destaca por su capacidad de manejar la incertidumbre de manera explícita y proporcionar interpretaciones más completas sobre los parámetros del modelo.\n",
        "\n",
        "La decisión entre uno u otro depende de los objetivos del análisis, los recursos computacionales y el grado de incertidumbre que se necesite modelar"
      ],
      "metadata": {
        "id": "WK-StUJRRm6e"
      }
    }
  ]
}