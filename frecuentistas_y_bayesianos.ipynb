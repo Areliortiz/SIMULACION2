{
  "nbformat": 4,
  "nbformat_minor": 0,
  "metadata": {
    "colab": {
      "provenance": [],
      "authorship_tag": "ABX9TyNt0FKcsagGg6Hs2smt9RmQ",
      "include_colab_link": true
    },
    "kernelspec": {
      "name": "python3",
      "display_name": "Python 3"
    },
    "language_info": {
      "name": "python"
    }
  },
  "cells": [
    {
      "cell_type": "markdown",
      "metadata": {
        "id": "view-in-github",
        "colab_type": "text"
      },
      "source": [
        "<a href=\"https://colab.research.google.com/github/Areliortiz/SIMULACION2/blob/main/frecuentistas_y_bayesianos.ipynb\" target=\"_parent\"><img src=\"https://colab.research.google.com/assets/colab-badge.svg\" alt=\"Open In Colab\"/></a>"
      ]
    },
    {
      "cell_type": "markdown",
      "source": [
        "## FRECUENTISTAS Y BAYESIANOS"
      ],
      "metadata": {
        "id": "FbcZE5QP-6oH"
      }
    },
    {
      "cell_type": "markdown",
      "source": [
        "Frecuentistas: Creen que la probabilidad solo tiene sentido en experimentos\n",
        "repetidos y que mide la frecuencia con la que un evento ocurre.\n",
        "\n",
        "Bayesianos: Creen que la probabilidad refleja nuestro grado de conocimiento o certeza sobre un evento, y se puede aplicar tanto a eventos repetidos como a situaciones únicas."
      ],
      "metadata": {
        "id": "lju8ge-i_Jwk"
      }
    },
    {
      "cell_type": "code",
      "execution_count": 2,
      "metadata": {
        "id": "G5L4nSDe-2yR"
      },
      "outputs": [],
      "source": [
        "#iportar librerias\n",
        "import numpy as np\n",
        "import matplotlib.pyplot as plt"
      ]
    },
    {
      "cell_type": "markdown",
      "source": [
        "Ejemplo: Mediciones de flujo de fotones.\n",
        "Apuntamos un telescopio al cielo y observamos la luz que provienede una sola estrella, tenemos los siguientes datos:\n",
        "\n",
        "$F$: flujo real de fotones de la estrella\n",
        "\n",
        "$N$: numero de mediones\n",
        "\n",
        "$F_i$: flujo observado\n",
        "\n",
        "$e_i$: error de medición"
      ],
      "metadata": {
        "id": "XxdfF6Bm_nUd"
      }
    },
    {
      "cell_type": "code",
      "source": [
        "np.random.seed(2)  # para reproducibilidad\n",
        "e = np.random.normal(30, 3, 50)\n",
        "F = np.random.normal(1000, e)\n"
      ],
      "metadata": {
        "id": "LuJcUO1-_ao5"
      },
      "execution_count": 4,
      "outputs": []
    },
    {
      "cell_type": "markdown",
      "source": [
        "Enfoque frecuentista.\n",
        "\n",
        "Utiliza máxima verosimilitud para estimar parametros. En este caso, la probabilidad condicional de una medición $D_i$ dado un flujo verdadero $F$ se modela como una distribución normal:\n",
        "$P(D_i|F) = \\frac{1}{\\sqrt{2\\pi e_i^2}} \\exp\\left(-\\frac{(F_i - F)^2}{2e_i^2}\\right)$\n",
        "\n",
        "El log-verosimilitud para un conjunto de mediciones $D$ es:\n",
        "\n",
        "$\\log L(D|F) = -\\frac{1}{2} \\sum_{i=1}^N \\left[ \\log(2\\pi e_i^2) + \\frac{(F_i - F)^2}{e_i^2} \\right]$\n",
        "\n",
        "El valor que maximiza la verisimiltud es:\n",
        "\n",
        "$\\hat{F} = \\frac{\\sum w_i F_i}{\\sum w_i}, \\quad w_i = \\frac{1}{e_i^2}$\n",
        "\n",
        "La incertidumbre en $\\hat{F}$ se calcula como:\n",
        "\n",
        "$\\sigma_{\\hat{F}} = \\left(\\sum w_i\\right)^{-1/2}$"
      ],
      "metadata": {
        "id": "t7ScZBzfHCIh"
      }
    },
    {
      "cell_type": "code",
      "source": [
        "# lo evaluamos de la sig. manera\n",
        "w = 1. / e ** 2\n",
        "F_hat = np.sum(w * F) / np.sum(w)\n",
        "sigma_F = np.sqrt(1. / np.sum(w))\n",
        "\n",
        "print(f\"Frequentista: F̂ = {F_hat:.2f} ± {sigma_F:.2f}\")\n"
      ],
      "metadata": {
        "id": "TpSZMwNGHBtL",
        "outputId": "e42db3b7-69ac-46a3-a939-1e151791df2f",
        "colab": {
          "base_uri": "https://localhost:8080/"
        }
      },
      "execution_count": 6,
      "outputs": [
        {
          "output_type": "stream",
          "name": "stdout",
          "text": [
            "Frequentista: F̂ = 998.65 ± 4.11\n"
          ]
        }
      ]
    },
    {
      "cell_type": "markdown",
      "source": [
        "Bayesianismo: Uso de probabilidades.\n",
        "\n",
        "El enfoque bayesiano calcula la distribución posterior de $F$ utilizando el teorema de Bayes:\n",
        "\n",
        "$P(F|D) = \\frac{P(D|F)P(F)}{P(D)}$\n",
        "\n",
        "Donde:\n",
        "\n",
        "$P(F|D)$: Probabilidad posterior(la meta del análisis\n",
        "\n",
        "$P(D|F)$: Verosimilidad\n",
        "\n",
        "$P(F|D)$: Prior, que en este caso asume el plano ($P$($F$) α 1).\n",
        "\n",
        "\n"
      ],
      "metadata": {
        "id": "2w3TFYNxOm1F"
      }
    }
  ]
}