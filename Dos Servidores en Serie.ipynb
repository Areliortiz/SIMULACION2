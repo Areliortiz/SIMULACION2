{
  "nbformat": 4,
  "nbformat_minor": 0,
  "metadata": {
    "colab": {
      "provenance": [],
      "authorship_tag": "ABX9TyO+4LScCtiuUNlTNSFCc31g",
      "include_colab_link": true
    },
    "kernelspec": {
      "name": "python3",
      "display_name": "Python 3"
    },
    "language_info": {
      "name": "python"
    }
  },
  "cells": [
    {
      "cell_type": "markdown",
      "metadata": {
        "id": "view-in-github",
        "colab_type": "text"
      },
      "source": [
        "<a href=\"https://colab.research.google.com/github/Areliortiz/SIMULACION2/blob/main/Dos%20Servidores%20en%20Serie.ipynb\" target=\"_parent\"><img src=\"https://colab.research.google.com/assets/colab-badge.svg\" alt=\"Open In Colab\"/></a>"
      ]
    },
    {
      "cell_type": "markdown",
      "source": [
        "# **Dos servidores en serie**\n",
        "Tomemos el ejemplo de cajeros automáticos, donde los clientes pasan primero por un cajero y luego por un segundo cajero para completar sus transacciones. Aquí tienes un ejemplo de código para este caso"
      ],
      "metadata": {
        "id": "6Ne7UsYyboRf"
      }
    },
    {
      "cell_type": "code",
      "source": [
        "#importamos librerias\n",
        "import random\n",
        "import math"
      ],
      "metadata": {
        "id": "hzGIhWz0bD4z"
      },
      "execution_count": null,
      "outputs": []
    },
    {
      "cell_type": "code",
      "source": [
        "# Funciones auxiliares\n",
        "#Genera el tiempo entre llegadas basado en una distribución exponencial\n",
        "def generar_tiempo_llegada():\n",
        "    tasa_llegada = 1 / 5  # Un cliente llega en promedio cada 5 minutos\n",
        "    return -math.log(1 - random.random()) / tasa_llegada\n",
        "\n",
        "#Genera el tiempo de servicio basado en una distribución exponencial.\n",
        "def generar_tiempo_servicio():\n",
        "    tasa_servicio = 1 / 4  # El servicio toma en promedio 4 minutos\n",
        "    return -math.log(1 - random.random()) / tasa_servicio"
      ],
      "metadata": {
        "id": "p-qzgBsubHuY"
      },
      "execution_count": null,
      "outputs": []
    },
    {
      "cell_type": "code",
      "source": [
        "# Variables de estado\n",
        "t = 0  # Tiempo actual\n",
        "tLL = generar_tiempo_llegada()  # Tiempo del próximo cliente que llega\n",
        "t1 = float('inf')  # Fin del servicio en el servidor 1\n",
        "t2 = float('inf')  # Fin del servicio en el servidor 2\n",
        "n1 = 0  # Clientes en el servidor 1\n",
        "n2 = 0  # Clientes en el servidor 2\n",
        "NLL = 0  # Total de llegadas\n",
        "NS = 0  # Total de salidas\n",
        "\n",
        "# Registros de eventos\n",
        "LL = []  # Tiempos de llegada\n",
        "S = []  # Tiempos de salida\n",
        "\n",
        "# Simulación\n",
        "tiempo_simulacion = 100  # Tiempo total de simulación\n",
        "while t < tiempo_simulacion:\n",
        "    if tLL <= t1 and tLL <= t2:\n",
        "        # Caso 1: Llegada de un cliente\n",
        "        t = tLL\n",
        "        NLL += 1\n",
        "        n1 += 1\n",
        "        LL.append(t)\n",
        "        tLL = t + generar_tiempo_llegada()\n",
        "        if n1 == 1:\n",
        "            t1 = t + generar_tiempo_servicio()\n",
        "    elif t1 < tLL and t1 <= t2:\n",
        "        # Caso 2: Fin de servicio en el servidor 1\n",
        "        t = t1\n",
        "        n1 -= 1\n",
        "        n2 += 1\n",
        "        if n1 > 0:\n",
        "            t1 = t + generar_tiempo_servicio()\n",
        "        else:\n",
        "            t1 = float('inf')\n",
        "        if n2 == 1:\n",
        "            t2 = t + generar_tiempo_servicio()\n",
        "    else:\n",
        "        # Caso 3: Fin de servicio en el servidor 2\n",
        "        t = t2\n",
        "        NS += 1\n",
        "        n2 -= 1\n",
        "        S.append(t)\n",
        "        if n2 > 0:\n",
        "            t2 = t + generar_tiempo_servicio()\n",
        "        else:\n",
        "            t2 = float('inf')\n",
        "\n",
        "# Resultados\n",
        "print(f\"Total de clientes que llegaron: {NLL}\")\n",
        "print(f\"Total de clientes que salieron: {NS}\")\n",
        "print(f\"Tiempos de llegada: {LL}\")\n",
        "print(f\"Tiempos de salida: {S}\")\n"
      ],
      "metadata": {
        "id": "1eHx_1mYachR",
        "outputId": "238a52a4-3cc4-43e8-b0bf-e33ed73e3569",
        "colab": {
          "base_uri": "https://localhost:8080/"
        }
      },
      "execution_count": null,
      "outputs": [
        {
          "output_type": "stream",
          "name": "stdout",
          "text": [
            "Total de clientes que llegaron: 22\n",
            "Total de clientes que salieron: 17\n",
            "Tiempos de llegada: [1.282030520559663, 3.427135314162734, 3.4759798056620363, 7.070434543613901, 17.69008787921455, 22.387852216278702, 25.32958079852377, 26.350525281678784, 30.096209261954016, 35.11436501476744, 46.54040759154062, 49.954211047123614, 54.598182175571424, 62.66027223310124, 69.28870176618778, 77.86476843933343, 84.24055429514276, 86.47164549566399, 86.70290677337546, 89.52709626505107, 92.74053303065422, 95.88490450420979]\n",
            "Tiempos de salida: [21.67994724897113, 22.542503684581682, 24.429794555247984, 25.418620753118727, 25.97821497724777, 37.082989140434876, 38.83957192193745, 39.173660434129026, 41.323487776488896, 42.189853328346445, 69.5927282152903, 73.61305561384776, 73.7379780733437, 77.44208022941389, 83.76681584043537, 84.14964630086536, 95.23491064434269]\n"
          ]
        }
      ]
    }
  ]
}